{
 "cells": [
  {
   "cell_type": "markdown",
   "metadata": {
    "jp-MarkdownHeadingCollapsed": true,
    "slideshow": {
     "slide_type": "notes"
    },
    "tags": []
   },
   "source": [
    "Final summary from my notes, 2022:\n",
    "\n",
    "\n"
   ]
  },
  {
   "cell_type": "markdown",
   "metadata": {
    "slideshow": {
     "slide_type": "slide"
    }
   },
   "source": [
    "## Hello everyone! Before class:\n",
    "1. In GH Desktop: Fetch/pull your class notes repo **and** the lecture repo.\n",
    "3. Suggested: Open the module notes file on one side of your Jupyterlab screen and the two files above on the other side of your screen.\n",
    "\n",
    "💪 💪 **Time to power up** 💪 💪\n",
    "\n",
    "![](https://media.giphy.com/media/x2woMnCz4W0Vy/giphy.gif)"
   ]
  },
  {
   "cell_type": "markdown",
   "metadata": {
    "slideshow": {
     "slide_type": "slide"
    }
   },
   "source": [
    "## Today\n",
    "\n",
    "1. _Preliminary syntax rules: indentation_\n",
    "2. For loops (*)\n",
    "3. HOT TIPS: ABCD and _building_ code \n",
    "4. If-elif-else (*)\n",
    "5. Bugs \n",
    "6. If time: Gitignore\n",
    "    "
   ]
  },
  {
   "cell_type": "markdown",
   "metadata": {
    "slideshow": {
     "slide_type": "slide"
    },
    "tags": []
   },
   "source": [
    "### Indentation\n",
    "\n",
    "- Python has strong opinions about indentations\n",
    "- Indentations at the beginning of lines are not \"up to you\"\n",
    "- **Indentations indicate a \"block\" of code that is run as a unit.** "
   ]
  },
  {
   "cell_type": "code",
   "execution_count": 4,
   "metadata": {
    "slideshow": {
     "slide_type": "fragment"
    },
    "tags": []
   },
   "outputs": [
    {
     "name": "stdout",
     "output_type": "stream",
     "text": [
      "I am here\n"
     ]
    }
   ],
   "source": [
    "x = 7\n",
    "if x < 5:                   # this is false, obviously,\n",
    "    z = x+2                 # so this never runs and \n",
    "    print('I am not here.') # this doesn't print\n",
    "if x < 5:          # this is false, obviously,\n",
    "    z = x+2        # so this never runs  \n",
    "print('I am here') # BUT! BUT! this DOES print"
   ]
  },
  {
   "cell_type": "markdown",
   "metadata": {
    "slideshow": {
     "slide_type": "fragment"
    },
    "tags": []
   },
   "source": [
    "[(Omg, this slide violates a golden rule. Which?)](https://ledatascifi.github.io/ledatascifi-2022/content/02/10_Golden_3.html)"
   ]
  },
  {
   "cell_type": "markdown",
   "metadata": {
    "slideshow": {
     "slide_type": "slide"
    },
    "tags": []
   },
   "source": [
    "### For loops\n",
    "\n",
    "Syntax:\n",
    "```python\n",
    "for <name> in <iterable object>:     # you must use the colon!\n",
    "    <do some stuff, refer to \"name\"> # you must indent lines in the loop\n",
    "    <do some more stuff if you want> # you must indent lines in the loop \n",
    "    <do even more stuff>             # you must indent lines in the loop \n",
    "```    \n"
   ]
  },
  {
   "cell_type": "markdown",
   "metadata": {
    "slideshow": {
     "slide_type": "fragment"
    },
    "tags": []
   },
   "source": [
    "Here is a silly (non-functional) example of a loop calculating the cost of a portfolio.\n",
    "\n",
    "_Prof: write on paper all explicit steps this code does_"
   ]
  },
  {
   "cell_type": "markdown",
   "metadata": {
    "slideshow": {
     "slide_type": "fragment"
    },
    "tags": []
   },
   "source": [
    "```python\n",
    "# pre-loop stuff \n",
    "stonks = ['GM','F','TSLA','MSFT']\n",
    "prices = {'GM':10,'F':20,'TSLA':1000,'MSFT':500}\n",
    "tot = 0 # will add up cost in this variable\n",
    "\n",
    "for stonk in stonks:\n",
    "    price = get_price_of(stonk) # do some stuff\n",
    "    tot = tot + price           # then increment!\n",
    "```    "
   ]
  },
  {
   "cell_type": "markdown",
   "metadata": {
    "slideshow": {
     "slide_type": "subslide"
    },
    "tags": []
   },
   "source": [
    "Looping notes:\n",
    "1. **Choose a good `<name>`!** Perhaps: the singular of what you're looping over? state in states, stonk in stonks, etc\n",
    "1. Especially early on: Print the objects within your loop\n",
    "    - You might be surprised at what the object is\n",
    "    - Textbook has another worked out example\n",
    "    - Next slide..."
   ]
  },
  {
   "cell_type": "markdown",
   "metadata": {
    "slideshow": {
     "slide_type": "subslide"
    },
    "tags": []
   },
   "source": [
    "### Huge Tip 1: ABCD\n",
    "\n",
    "- [8.D of the Chap 2 golden rules](https://ledatascifi.github.io/ledatascifi-2022/content/02/10_Golden_3.html): **Always Be Checking Your Data**\n",
    "- [Echoes 1.8.2 \"debugging\" trick](https://ledatascifi.github.io/ledatascifi-2022/content/01/07_debugging.html#seriously-print-your-data-and-objects-often): PRINT YOUR DATA AND OBJECTS OFTEN!\n",
    "- Here: print the objects in your loops!\n"
   ]
  },
  {
   "cell_type": "code",
   "execution_count": 2,
   "metadata": {
    "slideshow": {
     "slide_type": "fragment"
    }
   },
   "outputs": [
    {
     "name": "stdout",
     "output_type": "stream",
     "text": [
      "on num:  2\n",
      "tot now: 2\n",
      "on num:  4\n",
      "tot now: 6\n",
      "on num:  8\n",
      "tot now: 14\n",
      "14\n"
     ]
    }
   ],
   "source": [
    "# finding a total by incrementing\n",
    "\n",
    "mynumbers = [2,4,8]       # some input\n",
    "tot = 0                   # build answer here  \n",
    "for num in mynumbers:\n",
    "    print('on num: ',num) # ABCD using the tip I just gave\n",
    "    tot = tot + num       # increment\n",
    "    print('tot now:',tot)        \n",
    "print(tot)\n",
    "\n",
    "# Doesn't this algo seem like a silly way to get total?\n",
    "# Q1: Is there a quicker way to compute that?\n",
    "# Q2: Then why is that a useful construct? "
   ]
  },
  {
   "cell_type": "markdown",
   "metadata": {
    "slideshow": {
     "slide_type": "subslide"
    },
    "tags": []
   },
   "source": [
    "### Huge Tip 2: How to build loops\n",
    "\n",
    "1. [Write the pseudo code](https://ledatascifi.github.io/ledatascifi-2022/content/02/10_Golden_3.html)"
   ]
  },
  {
   "cell_type": "markdown",
   "metadata": {
    "slideshow": {
     "slide_type": "subslide"
    },
    "tags": []
   },
   "source": [
    "### Huge Tip 2: How to build loops\n",
    "\n",
    "1. [Write the pseudo code](https://ledatascifi.github.io/ledatascifi-2022/content/02/10_Golden_3.html)\n",
    "\n",
    "<img src=\"https://camo.githubusercontent.com/3de4454ba69c03451d02571c4bf6e65182116e9d5f2c46745b5c78bb715ca6a7/68747470733a2f2f696d672e6966756e6e792e636f2f696d616765732f376639643863333834313138306564616438663437383866353530383434386463303739343037323137363839343139326264383064633939643537323230345f312e6a7067\" alt=\"pseudo\" width=\"50%\"> \n",
    " \n",
    "_Meme courtesy of Lana Butorovic_ \n",
    " "
   ]
  },
  {
   "cell_type": "markdown",
   "metadata": {
    "slideshow": {
     "slide_type": "subslide"
    },
    "tags": []
   },
   "source": [
    "### Huge Tip 2: How to build loops\n",
    "\n",
    "1. [Write the pseudo code](https://ledatascifi.github.io/ledatascifi-2022/content/02/10_Golden_3.html)\n",
    "\n",
    "1. Write skeleton for loop: works on ONE element, and prints out progress within\n",
    "\n",
    "    ```python\n",
    "    for stonk in stonks[0]: # stonks[0] is only the first ele\n",
    "        print(stonk) # ABCD!\n",
    "    ```\n",
    "1. Now, write the code that works on single element. \n",
    "\n",
    "    ```python\n",
    "    for stonk in stonks[0]:\n",
    "        print(stonk)\n",
    "        # start working here...\n",
    "        # when you make a new obj, like \"price\" --> ABCD!\n",
    "    ```\n",
    "\n",
    "1. Then try multiple parts of the object, e.g. `[0:3]`\n"
   ]
  },
  {
   "cell_type": "markdown",
   "metadata": {
    "slideshow": {
     "slide_type": "subslide"
    },
    "tags": []
   },
   "source": [
    "### Exercises\n",
    "\n",
    "These are the assets (copy from `handouts/Py Day 2 assets.py`)\n",
    "```python\n",
    "stonks = ['GM','F','TSLA','MSFT']\n",
    "prices = {'GM':10,'F':20,'TSLA':1000,'MSFT':500}\n",
    "shares = {'GM':4,'F':3,'TSLA':2,'MSFT':2}\n",
    "weights = {'GM':0.35,'F':0.4,'TSLA':0.3,'MSFT':-0.05} # not typo\n",
    "industry = {'GM':'auto','F':'auto','TSLA':'auto','MSFT':'tech'}\n",
    "```\n",
    "\n",
    "Solve these using a for-loop:\n",
    "1. What is the portfolio cost if you buy one share each?\n",
    "1. What is the portfolio cost if you buy the number of shares indicated in the `shares` dictionary above?\n",
    "1. If you have 10,000 and use the portfolio weights from `weights`, how many shares of each firm will you buy? Output the answer HOWEVER you want (easiest option: print as you find out)\n"
   ]
  },
  {
   "cell_type": "markdown",
   "metadata": {
    "slideshow": {
     "slide_type": "fragment"
    },
    "tags": []
   },
   "source": [
    "**Autoformatting tip: After writing your code, CTRL+SHIFT+F if you installed the extensions to J-Lab**"
   ]
  },
  {
   "cell_type": "markdown",
   "metadata": {
    "slideshow": {
     "slide_type": "slide"
    },
    "tags": []
   },
   "source": [
    "### If, elif, else\n",
    "\n",
    "Syntax:\n",
    "\n",
    "```python \n",
    "if <condition 1>:                         # you must use the colon!\n",
    "     <do some stuff if condition is true> # remember to indent things inside the if\n",
    "elif <condition 2>:                       # you must use the colon!\n",
    "    <do stuff if condition 1 is false but condition 2 is true>\n",
    "else:\n",
    "    <if neither condition 1 nor 2 are true, do this>\n",
    "```\n",
    "\n",
    "Comments:\n",
    "- You can include zero or as many `elif` code blocks as you want\n",
    "- You can omit the `else` block entirely\n",
    "- Whatever is in `<condition>` must evaluate to True or False or 1 (true) or 0 (false)\n",
    "- A `<condition>` can be complex:\n",
    "\n",
    "```python\n",
    "if (Poor and TaxRateAtOrBelowNegative10) or (MiddleClass and TaxRateAtOrBelow5) or (Rich and TaxRateBelow15):\n",
    "    start_audit()\n",
    "```"
   ]
  },
  {
   "cell_type": "markdown",
   "metadata": {
    "slideshow": {
     "slide_type": "subslide"
    },
    "tags": []
   },
   "source": [
    "### Exercises\n",
    "\n",
    "These are the assets:\n",
    "```python\n",
    "stonks = ['GM','F','TSLA','MSFT']\n",
    "prices = {'GM':10,'F':20,'TSLA':1000,'MSFT':500}\n",
    "shares = {'GM':4,'F':3,'TSLA':2,'MSFT':2}\n",
    "weights = {'GM':0.35,'F':0.4,'TSLA':0.3,'MSFT':-0.05} # not typo\n",
    "industry = {'GM':'auto','F':'auto','TSLA':'auto','MSFT':'tech'}\n",
    "```\n",
    "\n",
    "1. Write a if statement that will give the stock price if the stonk is an auto firm.\n",
    "1. Write a for loop that gets the price of a portfolio of 1 share each for the auto firms. "
   ]
  },
  {
   "cell_type": "markdown",
   "metadata": {
    "slideshow": {
     "slide_type": "slide"
    },
    "tags": []
   },
   "source": [
    "# Debugging\n",
    "\n",
    "We will run into many, many varied issues this semester. It's infeasible to avoid them, plus overcoming them is actually important to the learning process! "
   ]
  },
  {
   "cell_type": "markdown",
   "metadata": {
    "slideshow": {
     "slide_type": "fragment"
    },
    "tags": []
   },
   "source": [
    "Tools to fix AND avoid are discussed in [Chapter 1.8](https://ledatascifi.github.io/ledatascifi-2022/content/01/07_debugging.html), but in summary:"
   ]
  },
  {
   "cell_type": "markdown",
   "metadata": {
    "slideshow": {
     "slide_type": "fragment"
    },
    "tags": []
   },
   "source": [
    "1. For errors that give error codes, READ THE ERROR CODES! (prof demo)\n",
    "1. **ABCD, or: print(), a LOT** (while developing code)\n",
    "1. Reset the kernel, clear output, and rerun from scratch\n",
    "1. Google/stack overflow the error code \n",
    "1. [More help](https://ledatascifi.github.io/ledatascifi-2022/content/about/help.html)"
   ]
  },
  {
   "cell_type": "markdown",
   "metadata": {
    "slideshow": {
     "slide_type": "subslide"
    },
    "tags": []
   },
   "source": [
    "The worst bugs are the type that let your code keep \"working\". Just lurking there, ruining your work...\n",
    "\n",
    "![](https://media.giphy.com/media/3ov9k9kmfD1b80NJ2o/source.gif)\n",
    "\n"
   ]
  },
  {
   "cell_type": "markdown",
   "metadata": {
    "slideshow": {
     "slide_type": "subslide"
    },
    "tags": []
   },
   "source": [
    "To avoid those lurcking errors..."
   ]
  },
  {
   "cell_type": "markdown",
   "metadata": {
    "slideshow": {
     "slide_type": "fragment"
    },
    "tags": []
   },
   "source": [
    "# ABCD!"
   ]
  },
  {
   "cell_type": "markdown",
   "metadata": {
    "slideshow": {
     "slide_type": "fragment"
    }
   },
   "source": [
    "These are usually often due to either \n",
    "- planning errors (you thought you could do A->B->C, but C is impossible after B)\n",
    "- **Or because you did something that didn't do exactly what you thought**\n",
    "\n",
    "The latter happens a TON with big data projects, and we will talk about techniques to reduce such errors. "
   ]
  },
  {
   "cell_type": "markdown",
   "metadata": {
    "slideshow": {
     "slide_type": "fragment"
    }
   },
   "source": [
    "But I have **ONE BIG, WEIRD TRICK** and let me tell, you, BUGS HATE IT:"
   ]
  },
  {
   "cell_type": "markdown",
   "metadata": {
    "slideshow": {
     "slide_type": "fragment"
    },
    "tags": []
   },
   "source": [
    "Seriously..."
   ]
  },
  {
   "cell_type": "markdown",
   "metadata": {
    "slideshow": {
     "slide_type": "subslide"
    },
    "tags": []
   },
   "source": [
    "# Look at your data and objects OFTEN! Print, print, print!\n",
    "\n",
    "This isn't even a \"debugging\" point per se.\n",
    "- You know a 6 is a 6.\n",
    "- In big datasets, it's easy to make rather large changes without knowing exactly what you have done, ... or not done ... , if you don't see into the object. \n",
    "- Are you sure that object is exactly what you think it is, containing exactly what you think it does? Thus, the `print` statement and other ways of \"glancing into\" datasets are crucial. Even when you've all become pythonic pros, you should tend towards examining your objects \"too much\". "
   ]
  },
  {
   "cell_type": "markdown",
   "metadata": {
    "slideshow": {
     "slide_type": "subslide"
    },
    "tags": []
   },
   "source": [
    "### Apologies for repeating that so much! \n",
    "\n",
    "(I violated [rule 7.B (DRY)](https://ledatascifi.github.io/ledatascifi-2022/content/02/10_Golden_3.html) to make a point.)"
   ]
  },
  {
   "cell_type": "markdown",
   "metadata": {
    "slideshow": {
     "slide_type": "fragment"
    },
    "tags": []
   },
   "source": [
    "But printing too much does help while developing code\n",
    "\n",
    "When you're done developing it, and it works: delete the extraneous `print()` commands or comment them out"
   ]
  },
  {
   "cell_type": "markdown",
   "metadata": {
    "slideshow": {
     "slide_type": "slide"
    },
    "tags": []
   },
   "source": [
    "## Gitignore\n",
    "\n",
    "- Working on projecs will create files \n",
    "- You don't want all these to end up on github.com"
   ]
  },
  {
   "cell_type": "markdown",
   "metadata": {
    "slideshow": {
     "slide_type": "fragment"
    },
    "tags": []
   },
   "source": [
    "- Examples:\n",
    "    - .DS_Store (a temporary file generated by macOS)\n",
    "    - ipynb checkpoint files (created by j-lab)\n",
    "    - temporary data files "
   ]
  },
  {
   "cell_type": "markdown",
   "metadata": {
    "slideshow": {
     "slide_type": "fragment"
    },
    "tags": []
   },
   "source": [
    "**ENTER .gitignore: It tells GH-D to stop syncing certain files and folders from your comp to github.com**"
   ]
  },
  {
   "cell_type": "markdown",
   "metadata": {
    "slideshow": {
     "slide_type": "subslide"
    },
    "tags": []
   },
   "source": [
    "How to use `.gitignore`:\n",
    "1. When you start a project, add a \"template\" version of a gitignore \n",
    "    - [Can copy from the python one here](https://github.com/github/gitignore)\n",
    "2. When you're basically done, you're ready to clean up your repo. Chapter 1.11 has specific, but the \"pseudocode\" is:\n",
    "    1. Look at the repo **online** and note any files you don't want to have there\n",
    "    1. Add the file or folder names to the .gitignore\n",
    "    1. Delete the files/folders off the repo **online**\n",
    "\n",
    "Future changes to those files/folders should be ignored by GH-D"
   ]
  },
  {
   "cell_type": "markdown",
   "metadata": {
    "slideshow": {
     "slide_type": "subslide"
    },
    "tags": []
   },
   "source": [
    "If we have time, I'll do a small demo\n",
    "\n",
    "If not, [read chapter 1.11](https://ledatascifi.github.io/ledatascifi-2022/content/01/09_gitignore.html)"
   ]
  },
  {
   "cell_type": "markdown",
   "metadata": {
    "slideshow": {
     "slide_type": "slide"
    },
    "tags": []
   },
   "source": [
    "## Summary \n",
    "\n",
    "Big things:\n",
    "- **ABCD** x10,000\n",
    "- **Write psuedo code**\n",
    "- For loops, and building them\n",
    "- If statements\n",
    "- Bugs\n",
    "\n",
    "![](https://media.giphy.com/media/H7x1H0veAJlo4/giphy.gif)\n"
   ]
  },
  {
   "cell_type": "markdown",
   "metadata": {
    "slideshow": {
     "slide_type": "subslide"
    },
    "tags": []
   },
   "source": [
    "## This weekend\n",
    "\n",
    "Good luck with assignment 1! Due Sunday!\n",
    "- Commit and push some (any!) change today - if you can't see your work on github.com, then contact Julio ASAP. \n",
    "- Highly encourage a good read, will help on the assignment AND the rest of class\n",
    "    - Chapter 1.7 (python) \n",
    "    - Chapter 2 (all of it!)"
   ]
  },
  {
   "cell_type": "markdown",
   "metadata": {
    "slideshow": {
     "slide_type": "subslide"
    }
   },
   "source": [
    "## Shutting down \n",
    "\n",
    "And at the end of each class, \n",
    "- Restart your kernal and rerun your code\n",
    "- save all open code files, \n",
    "- close JLab (and the terminal running it)\n",
    "- commit and push your Class Notes repo\n",
    "- open the GitHub.com version of the repo\n",
    "\n"
   ]
  }
 ],
 "metadata": {
  "celltoolbar": "Tags",
  "kernelspec": {
   "display_name": "Python 3 (ipykernel)",
   "language": "python",
   "name": "python3"
  },
  "language_info": {
   "codemirror_mode": {
    "name": "ipython",
    "version": 3
   },
   "file_extension": ".py",
   "mimetype": "text/x-python",
   "name": "python",
   "nbconvert_exporter": "python",
   "pygments_lexer": "ipython3",
   "version": "3.8.12"
  }
 },
 "nbformat": 4,
 "nbformat_minor": 4
}
