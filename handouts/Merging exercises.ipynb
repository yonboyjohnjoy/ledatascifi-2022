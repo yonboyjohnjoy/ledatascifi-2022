{
 "cells": [
  {
   "cell_type": "markdown",
   "id": "5961187a-179f-4690-a89e-a0fd9178229c",
   "metadata": {
    "slideshow": {
     "slide_type": "subslide"
    }
   },
   "source": [
    "# The merge function\n"
   ]
  },
  {
   "cell_type": "code",
   "execution_count": null,
   "id": "3c5a0a2b-83e2-40e8-8ee5-3d08729e0a71",
   "metadata": {
    "slideshow": {
     "slide_type": "subslide"
    }
   },
   "outputs": [],
   "source": [
    "import pandas as pd\n",
    "\n",
    "left_df = pd.DataFrame({\n",
    "                    'firm': ['Accenture','Citi','GS'],\n",
    "                    'varA': ['A1', 'A2', 'A3']})\n",
    "\n",
    "right_df = pd.DataFrame({\n",
    "                    'firm': ['GS','Chase','WF'],\n",
    "                    'varB': ['B1', 'B2', 'B3'],\n",
    "                    'varc': ['C1', 'C2', 'C3']})    \n"
   ]
  },
  {
   "cell_type": "markdown",
   "id": "4c306a2a-2f72-4e45-8fa5-5f8e3d8223ac",
   "metadata": {
    "slideshow": {
     "slide_type": "subslide"
    }
   },
   "source": [
    "Let use shift+tab to talk about the parameters.\n",
    "\n",
    "Put your cursor in the merge function below and hit shift tab"
   ]
  },
  {
   "cell_type": "code",
   "execution_count": null,
   "id": "35952858-57ae-49c5-b4f8-b3e45bca03e7",
   "metadata": {},
   "outputs": [],
   "source": [
    "left_df.merge("
   ]
  },
  {
   "cell_type": "markdown",
   "id": "10271af4-5450-4f79-bde3-f85893adef92",
   "metadata": {},
   "source": [
    "The main parameters:\n",
    "- right\n",
    "- how\n",
    "- on and its variants \n",
    "- indicator \n",
    "- validate "
   ]
  },
  {
   "cell_type": "markdown",
   "id": "f09f1618-e7c9-4d4a-9295-897db5236b7b",
   "metadata": {},
   "source": [
    "## Part 1\n",
    "\n",
    "_Prof: Leave the \"how\" slide on the board_\n",
    "\n",
    "Some work with the mechanics:\n",
    "\n",
    "- Q0 Merge both datasets above with each possible value of `how`. How many observations result from each of the four merges?\n",
    "- Q1 Compare `left_df.merge(right_df)` and `pd.merge(left_df, right_df)`. Are they the same or different? What do we learn from this?\n",
    "- Q2 Successfully do an outer merge between `left_df` and `ChosenOne`. Then try to do an outer merge between `left_df` and `CurryForThree` (both are defined below)\n",
    "- Q3 Do an outer merge with `left_df` and `right_df` and output the source of each observation by using the \"indicate\" option.\n",
    "- Q4 Repeat the outer merge we just did, but four times: try each possible value of \"validate\""
   ]
  },
  {
   "cell_type": "code",
   "execution_count": null,
   "id": "0d23a588-320b-4540-81bd-ca6b518a53e1",
   "metadata": {},
   "outputs": [],
   "source": [
    "ChosenOne = pd.DataFrame({\n",
    "                    'tic': ['GS','GS','GS'],\n",
    "                    'varB': ['B1', 'B2', 'B3'],\n",
    "                    'varc': ['C1', 'C2', 'C3']})    \n",
    "\n",
    "CurryForThree = pd.DataFrame({\n",
    "                    'var1': ['GS','GS','GS'],\n",
    "                    'varD': ['D1', 'D2', 'D3'],\n",
    "                    'varE': ['E1', 'E2', 'E3']}).set_index('var1')"
   ]
  },
  {
   "cell_type": "markdown",
   "id": "76303468-734f-4672-bf93-9a46c8bec31d",
   "metadata": {},
   "source": [
    "## Part 2\n",
    "\n",
    "- Q5: [Guess what category of join](https://ledatascifi.github.io/ledatascifi-2022/content/03/05b_merging.html#categories-of-joins) each of the following merges are?  \n",
    "    1. `left_df` and `right_df` (you already know from Q4)\n",
    "    1. `left_df` and `ChosenOne`\n",
    "    1. `CurryForThree` and `left_df`\n",
    "    1. `ChosenOne` and `CurryForThree`\n",
    "- Q6: Do each of those four merge with `how='inner'` as an option. What is the length of each resulting dataframe?\n",
    "- Q7: Do an outer merge of `left_df` and `ChosenOne`. How many observations are in the resulting data, and why is it different than we foudn in Q6?\n",
    "- Q8: Merge these next two datasets with `how='inner'` as an option. What s the length of the resulting dataframe and do you think it's right?"
   ]
  },
  {
   "cell_type": "code",
   "execution_count": null,
   "id": "770fb7f1-f309-4ddd-8231-b0f91ded121a",
   "metadata": {},
   "outputs": [],
   "source": [
    "poppop = pd.DataFrame({\n",
    "                    'tic': ['TSLA','TSLA','GM'],\n",
    "                    'varB': ['2016', '2017', '2018'],\n",
    "                    'varc': ['C1', 'C2', 'C3']})    \n",
    "\n",
    "CurryForThree = pd.DataFrame({\n",
    "                    'var1': ['F','TSLA','TSLA'],\n",
    "                    'varD': ['2016', '2017', '2018'],\n",
    "                    'varE': ['E1', 'E2', 'E3']}).set_index('var1')"
   ]
  },
  {
   "cell_type": "markdown",
   "id": "f2465bb9-331f-4ee7-80a5-c400a91c1b05",
   "metadata": {},
   "source": [
    "## Part 3 - Collecting tips\n",
    "\n",
    "You should, after class, collect tips about\n",
    "- The most common use of merging and safeguards you can use\n",
    "- When should you create variables - before or after a merge?\n",
    "- Best practices for merging"
   ]
  }
 ],
 "metadata": {
  "kernelspec": {
   "display_name": "Python 3 (ipykernel)",
   "language": "python",
   "name": "python3"
  },
  "language_info": {
   "codemirror_mode": {
    "name": "ipython",
    "version": 3
   },
   "file_extension": ".py",
   "mimetype": "text/x-python",
   "name": "python",
   "nbconvert_exporter": "python",
   "pygments_lexer": "ipython3",
   "version": "3.8.12"
  }
 },
 "nbformat": 4,
 "nbformat_minor": 5
}
