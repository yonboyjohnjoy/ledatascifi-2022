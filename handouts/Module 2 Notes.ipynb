{
 "cells": [
  {
   "cell_type": "markdown",
   "id": "934846a2-cf16-4335-bd06-c7e4c498eee8",
   "metadata": {
    "tags": []
   },
   "source": [
    "# Module 2 - Numpy, Pandas, Data EDA/Wrangling/Cleaning, Visualization\n",
    "\n",
    "## Skills AND CONCEPTS to learn in this Module \n",
    "\n",
    "You can find the tasks for this module [on the dashboard page](https://ledatascifi.github.io/ledatascifi-2022/content/about/schedule.html). \n",
    "\n",
    "Below are the key skills and concepts I want you to learn in this module in _roughly_ the order we will cover them. \n",
    "\n",
    "_**Note: This list is the key stuff, but not everything. We are scraping the surface **_\n",
    "- [ ] Numpy \n",
    "    - [ ] fast numerical operations on large arrays \n",
    "    - [ ] produce reproducible random numbers\n",
    "    - [ ] know of some common numpy functions and try some\n",
    "    - [ ] can use Numpy functions on Pandas objects\n",
    "- [ ] Pandas  \n",
    "    - [ ] place data into dataframes (2D tables)\n",
    "    - [ ] loading and saving data\n",
    "    - [ ] concept: differentiate between \"wide\" and \"tall\" data\n",
    "    - [ ] filter or slice data\n",
    "    - [ ] create variables\n",
    "    - [ ] manipulate and reshape data within dataframes\n",
    "    - [ ] perform numerical and statistical operations on dataframes\n",
    "- [ ] Data EDA/Wrangling/Cleaning\n",
    "    - [ ] understand Golden Rules for Exploratory Data Analysis (EDA)\n",
    "    - [ ] look for possible issues in data and methods to fix\n",
    "    - [ ] merging dataframes together\n",
    "    - [ ] dealing with outliers and/or missing data \n",
    "- [ ] Visualization \n",
    "    - [ ] create effective visualizations and models for data\n",
    "    - [ ] determine what plots to use based on data characteristics\n",
    "    - [ ] syntax for creating and customizing plots\n",
    "    - [ ] performing EDA on visualizations\n",
    "\n"
   ]
  },
  {
   "cell_type": "markdown",
   "id": "92c622e7-94fc-42fb-8d60-3eb070be5b07",
   "metadata": {},
   "source": [
    "## Numpy Notes"
   ]
  },
  {
   "cell_type": "code",
   "execution_count": null,
   "id": "ba763348-36d7-470a-91ca-461e490b2a7d",
   "metadata": {},
   "outputs": [],
   "source": [
    "put your notes here (including common functions/methods)"
   ]
  },
  {
   "cell_type": "markdown",
   "id": "b9a70f17-d845-40b6-83c4-54b020125062",
   "metadata": {},
   "source": [
    "## Pandas Notes"
   ]
  },
  {
   "cell_type": "code",
   "execution_count": null,
   "id": "64ed4f91-c423-4de7-8177-5c88705190d9",
   "metadata": {},
   "outputs": [],
   "source": [
    "put your notes here (including common functions/methods)"
   ]
  },
  {
   "cell_type": "markdown",
   "id": "368fa64b-e565-4940-84b1-f13da62ca118",
   "metadata": {},
   "source": [
    "## Data/EDA/Wrangling/Cleaning Notes"
   ]
  },
  {
   "cell_type": "code",
   "execution_count": null,
   "id": "b0c32def-1030-4369-9f37-ca1b22c7f70d",
   "metadata": {},
   "outputs": [],
   "source": [
    "put your notes here"
   ]
  },
  {
   "cell_type": "markdown",
   "id": "3deb6ee2-1d57-455e-b3b8-809194bc75e4",
   "metadata": {},
   "source": [
    "## Visualization Notes"
   ]
  },
  {
   "cell_type": "code",
   "execution_count": null,
   "id": "0e45f53d-a9dc-4e14-a2f8-3c9eba94c627",
   "metadata": {},
   "outputs": [],
   "source": [
    "put your notes here"
   ]
  }
 ],
 "metadata": {
  "kernelspec": {
   "display_name": "Python 3 (ipykernel)",
   "language": "python",
   "name": "python3"
  },
  "language_info": {
   "codemirror_mode": {
    "name": "ipython",
    "version": 3
   },
   "file_extension": ".py",
   "mimetype": "text/x-python",
   "name": "python",
   "nbconvert_exporter": "python",
   "pygments_lexer": "ipython3",
   "version": "3.8.12"
  }
 },
 "nbformat": 4,
 "nbformat_minor": 5
}
