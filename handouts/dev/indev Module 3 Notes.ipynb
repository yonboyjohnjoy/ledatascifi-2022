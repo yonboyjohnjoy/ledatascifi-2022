{
 "cells": [
  {
   "cell_type": "markdown",
   "id": "07aac84f-df76-4c90-9a1a-e2b54415a9f4",
   "metadata": {},
   "source": [
    "We didn't use this file because Module 3 was essentially a 2 week \"case study\" where I live coded  \n",
    "- psuedocode of an analysis (spider, parser, analysis)\n",
    "- psuedocode of a spider\n",
    "- through the pieces of the spider\n",
    "- psuedocode of a parser\n",
    "- through the pieces of the spider\n"
   ]
  },
  {
   "cell_type": "code",
   "execution_count": null,
   "id": "b0fa2fd4-c1c8-4451-924d-c9469b8ccce5",
   "metadata": {},
   "outputs": [],
   "source": []
  },
  {
   "cell_type": "code",
   "execution_count": null,
   "id": "7b673725-a777-4bb2-8e07-5d0e4fc75ca0",
   "metadata": {},
   "outputs": [],
   "source": []
  },
  {
   "cell_type": "markdown",
   "id": "33d45c19-4270-42ff-829f-bb37771ff08b",
   "metadata": {},
   "source": [
    "# Module 3 - Accessing Data on the Web\n",
    "\n",
    "_My suggested use for this file is as an extra tab you keep open on the right side of your JupyterLab screen, and treat it like a notepad you'd use in a classroom. The left half of the screen will be good for files that have involved coding that should be stand alone files._\n",
    "\n",
    "## Skills AND CONCEPTS to learn in this Module \n",
    "\n",
    "You can find the tasks for this module [on the dashboard page]. \n",
    "\n",
    "Below are the key skills and concepts I want you to learn in this module in _roughly_ the order we will cover them. \n",
    "\n",
    "_**Note: This list is the key stuff, but not everything. We are scraping the surface **_\n",
    "- [ ] Scraping data\n",
    "    - [ ] download webpages with Pandas\n",
    "    - [ ] know how to use APIs to scrape data\n",
    "- [ ] Opening and parsing webpages\n",
    "    - [ ] retrieve URLs and send manual API queries\n",
    "    - [ ] parse single pages for data/text/links\n",
    "    - [ ] build spiders to scrape and save many webpages\n",
    "- [ ] Working with textual data\n",
    "    - [ ] turn unstructured data into structured data\n",
    "    - [ ] learn to work with Python strings\n",
    "    - [ ] use regex to search for patterns in strings\n",
    "    - [ ] use `near_regex` to search for patterns close to each other"
   ]
  },
  {
   "cell_type": "markdown",
   "id": "d17031a9-7601-4ba5-ac05-3ad67919685f",
   "metadata": {
    "tags": []
   },
   "source": [
    "## Web Scraping Notes"
   ]
  },
  {
   "cell_type": "code",
   "execution_count": null,
   "id": "112be9d7-bf10-4a07-a176-731670ab30f6",
   "metadata": {},
   "outputs": [],
   "source": [
    "put your notes here"
   ]
  },
  {
   "cell_type": "markdown",
   "id": "e05341e7-e5bd-4bd6-8d79-f689ad09c933",
   "metadata": {},
   "source": [
    "## Opening/Parsing Webpages Notes"
   ]
  },
  {
   "cell_type": "code",
   "execution_count": null,
   "id": "b0ccf76b-686f-440d-b423-e4fb3d635825",
   "metadata": {},
   "outputs": [],
   "source": [
    "put your notes here"
   ]
  },
  {
   "cell_type": "markdown",
   "id": "3abedff6-4291-43fa-84a5-d88a4c3c37d6",
   "metadata": {},
   "source": [
    "## Strings/Regex/Near_Regex Notes"
   ]
  },
  {
   "cell_type": "code",
   "execution_count": null,
   "id": "1b3bec8e-14c7-418d-b2df-cb1d54003624",
   "metadata": {},
   "outputs": [],
   "source": [
    "put your notes here (including common functions/methods)"
   ]
  }
 ],
 "metadata": {
  "kernelspec": {
   "display_name": "Python 3 (ipykernel)",
   "language": "python",
   "name": "python3"
  },
  "language_info": {
   "codemirror_mode": {
    "name": "ipython",
    "version": 3
   },
   "file_extension": ".py",
   "mimetype": "text/x-python",
   "name": "python",
   "nbconvert_exporter": "python",
   "pygments_lexer": "ipython3",
   "version": "3.8.12"
  }
 },
 "nbformat": 4,
 "nbformat_minor": 5
}
