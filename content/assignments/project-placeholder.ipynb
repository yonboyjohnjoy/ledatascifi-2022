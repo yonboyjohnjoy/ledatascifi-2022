{
 "cells": [
  {
   "cell_type": "markdown",
   "metadata": {},
   "source": [
    "# The final project\n",
    "\n",
    "The final project is a group project. Groups will pose an original question, get and clean the data, and then conduct analysis. \n",
    "\n",
    "There are two main deliverables:\n",
    "1. A website presenting your findings\n",
    "2. A presentation given to your classmates\n",
    "\n",
    "More details will be posted soon, but you can ask me in person for an update anytime!\n",
    "\n",
    "![](https://media.giphy.com/media/EIiJp9cQ3GeEU/giphy.gif)"
   ]
  }
 ],
 "metadata": {
  "kernelspec": {
   "display_name": "Python 3 (ipykernel)",
   "language": "python",
   "name": "python3"
  },
  "language_info": {
   "codemirror_mode": {
    "name": "ipython",
    "version": 3
   },
   "file_extension": ".py",
   "mimetype": "text/x-python",
   "name": "python",
   "nbconvert_exporter": "python",
   "pygments_lexer": "ipython3",
   "version": "3.8.12"
  }
 },
 "nbformat": 4,
 "nbformat_minor": 4
}
