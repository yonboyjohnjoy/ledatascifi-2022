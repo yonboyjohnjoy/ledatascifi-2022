{
 "cells": [
  {
   "cell_type": "markdown",
   "metadata": {},
   "source": [
    "# Midterm aka Assignment 5 - Our first real data science project\n",
    "\n",
    "In this project, you will have to get (scrape) data, clean it yourself, and parse the data to construct measures to use in exploratory analysis. This project will show you that production-level analysis at a huge scale is within reach for everyone in class. \n",
    "\n",
    "More details will be posted soon, but you can ask me in person for an update anytime!\n",
    "\n",
    "![](https://media.giphy.com/media/EIiJp9cQ3GeEU/giphy.gif)\n",
    "\n",
    "\n",
    "\n"
   ]
  }
 ],
 "metadata": {
  "kernelspec": {
   "display_name": "Python 3 (ipykernel)",
   "language": "python",
   "name": "python3"
  },
  "language_info": {
   "codemirror_mode": {
    "name": "ipython",
    "version": 3
   },
   "file_extension": ".py",
   "mimetype": "text/x-python",
   "name": "python",
   "nbconvert_exporter": "python",
   "pygments_lexer": "ipython3",
   "version": "3.8.12"
  }
 },
 "nbformat": 4,
 "nbformat_minor": 4
}
