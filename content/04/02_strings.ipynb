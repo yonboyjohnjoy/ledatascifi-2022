{
 "cells": [
  {
   "cell_type": "markdown",
   "metadata": {},
   "source": [
    "# The Power of Textual Data \n",
    "\n",
    "This section of the textbook is only a small appetizer of what can and should be done when working with textual data and python `string` objects. I mostly cover the essential stuff needed _for this class, for this semester._ \n",
    "\n",
    "But it's important to provide this overview and cover this topic! The web is awash with (mostly unstructured) text data. Twitter is one obvious site where scraping the text could yield insights, but as of 2020, there are 40 ZETTABYTES of  data across the web. A zettabyte is a billion terabytes. A zettabyte is about how many stars are in the observable universe.\n",
    "\n",
    "Something like 80% of that data is unstructured text. **Figuring out how to put structure on that data is POWERFUL.**\n",
    "\n",
    "```{admonition} Google\n",
    "Google is the most famous example of the power of structuring data. Their approach was to rank documents (you can [see the patent here](https://patents.google.com/patent/US6285999B1/en)) and then give you the ranked list based on whether your search words were in the document. \n",
    "```\n",
    "\n",
    "One very common task is identifying topics in unstructured text: Does the document discuss topic X? \n",
    "\n",
    "This section of class tries to show you how to implement a seemingly simple approach to do just that. What you'll see is that the \"basic\" code we construct is the foundation for a very powerful framework! After this, you will have code that can be adapted quickly to other text sources and extended to implement more sophisticated methods!\n",
    "\n",
    "\n",
    "\n",
    " <p style=\"font-size:1.5em\">Some good ideas when parsing text files</p> \n",
    "\n",
    "These rules should usually be followed, but there are exceptions. For example, sometimes the case of a letter matters, and sometimes keeping punctuation can help. But usually, textual analysis proceeds as follows:\n",
    "\n",
    "1. Use html tags to change/remove unneeded sections, or select the section of text that you want. If there are tables you don't want to parse or useless header or footer information, toss them out. \n",
    "1. With what remains after step 1, remove html tags and turn the document into a pure text string.\n",
    "    ```python\n",
    "    from bs4 import BeautifulSoup \n",
    "    BeautifulSoup(some_html).get_text()    \n",
    "    ```    \n",
    "2. Lower case everything. (Python string method: `.lower()`)\n",
    "3. Delete punctuation (I usually replace with a space). \n",
    "    ```python\n",
    "    # don't forget to import re\n",
    "    re.sub(r'\\W',' ',your_string_variable_goes_here)\n",
    "    ```\n",
    "4. Delete all excess whitespace.\n",
    "    ```python\n",
    "    re.sub(r'\\s+',' ',your_string_variable_goes_here)\n",
    "    ```\n",
    "4. Now you can search/parse the text."
   ]
  }
 ],
 "metadata": {
  "kernelspec": {
   "display_name": "Python 3 (ipykernel)",
   "language": "python",
   "name": "python3"
  },
  "language_info": {
   "codemirror_mode": {
    "name": "ipython",
    "version": 3
   },
   "file_extension": ".py",
   "mimetype": "text/x-python",
   "name": "python",
   "nbconvert_exporter": "python",
   "pygments_lexer": "ipython3",
   "version": "3.8.12"
  }
 },
 "nbformat": 4,
 "nbformat_minor": 4
}
