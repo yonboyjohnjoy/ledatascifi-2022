{
 "cells": [
  {
   "cell_type": "markdown",
   "metadata": {},
   "source": [
    "# Developing a regex\n",
    "\n",
    "1. Think of the PATTERN you want to capture in general terms. \"I want three letter words.\"\n",
    "2. Write `pattern = \"\\w{3}\"` and then try it on a few practice strings. **The goal is to BREAK your pattern, find out where it fails, and notice new parts of the pattern you missed.**\n"
   ]
  },
  {
   "cell_type": "code",
   "execution_count": 1,
   "metadata": {},
   "outputs": [
    {
     "data": {
      "text/plain": [
       "['hey', 'the', 'guy']"
      ]
     },
     "execution_count": 1,
     "metadata": {},
     "output_type": "execute_result"
    }
   ],
   "source": [
    "import re\n",
    "pattern = \"\\w{3}\"\n",
    "re.findall(pattern,\"hey there guy\") # whoops, \"the\" isnt a 3 letter word"
   ]
  },
  {
   "cell_type": "markdown",
   "metadata": {},
   "source": [
    "That produced \"the\" as a 3-letter string, but we wanted words."
   ]
  },
  {
   "cell_type": "code",
   "execution_count": 2,
   "metadata": {},
   "outputs": [
    {
     "data": {
      "text/plain": [
       "['hey', 'ere']"
      ]
     },
     "execution_count": 2,
     "metadata": {},
     "output_type": "execute_result"
    }
   ],
   "source": [
    "pattern = \"(\\w{3}) \" # I added a space after it. \n",
    "# the () is a way of saying \"I'm interested in the stuff (a word, hopefully) in inside the parens\" \n",
    "re.findall(pattern,\"hey there guy\") # whoops, \"the\" isnt a 3 letter word"
   ]
  },
  {
   "cell_type": "markdown",
   "metadata": {},
   "source": [
    "Darn. It found the 2 times three letters were followed by a space. It missed the \"guy\" because that isn't followed by a space. But there is a way to catch multiple kinds of word boundaries: \"`\\b`\""
   ]
  },
  {
   "cell_type": "code",
   "execution_count": 3,
   "metadata": {},
   "outputs": [
    {
     "data": {
      "text/plain": [
       "[]"
      ]
     },
     "execution_count": 3,
     "metadata": {},
     "output_type": "execute_result"
    }
   ],
   "source": [
    "pattern = \"(\\w{3})\\b\" # \\b means the string has to be followed by a word boundary\n",
    "re.findall(pattern,\"hey there guy\") "
   ]
  },
  {
   "cell_type": "markdown",
   "metadata": {},
   "source": [
    "Except that still didn't work, but this time for an annoying reason. `\\b` means word boundary in regex, yes but before the string is used by regex,  python processes the string, and `\\b` in a python string means \"backspace\". Annoying, but look:"
   ]
  },
  {
   "cell_type": "code",
   "execution_count": 4,
   "metadata": {},
   "outputs": [
    {
     "name": "stdout",
     "output_type": "stream",
     "text": [
      "\b\n"
     ]
    }
   ],
   "source": [
    "print('\\b')"
   ]
  },
  {
   "cell_type": "markdown",
   "metadata": {},
   "source": [
    "[The workaround was discussed at the bottom of the last page: Use \"raw string notation\".](02c_developing_a_regex) This means the string is left \"as is\". Look:"
   ]
  },
  {
   "cell_type": "code",
   "execution_count": 5,
   "metadata": {},
   "outputs": [
    {
     "name": "stdout",
     "output_type": "stream",
     "text": [
      "\\b\n"
     ]
    }
   ],
   "source": [
    "print(r'\\b')"
   ]
  },
  {
   "cell_type": "markdown",
   "metadata": {},
   "source": [
    "Ok, back to our idea of using the word boundary to get \"guy\", this time with a \"raw string\"."
   ]
  },
  {
   "cell_type": "code",
   "execution_count": 6,
   "metadata": {},
   "outputs": [
    {
     "data": {
      "text/plain": [
       "['hey', 'ere', 'guy']"
      ]
     },
     "execution_count": 6,
     "metadata": {},
     "output_type": "execute_result"
    }
   ],
   "source": [
    "pattern = r\"(\\w{3})\\b\" \n",
    "re.findall(pattern,\"hey there guy\") "
   ]
  },
  {
   "cell_type": "markdown",
   "metadata": {},
   "source": [
    "Now, we need to get rid of \"ere\". A word starts after a word boundary, right?"
   ]
  },
  {
   "cell_type": "code",
   "execution_count": 7,
   "metadata": {},
   "outputs": [
    {
     "data": {
      "text/plain": [
       "['hey', 'guy']"
      ]
     },
     "execution_count": 7,
     "metadata": {},
     "output_type": "execute_result"
    }
   ],
   "source": [
    "pattern = r\"\\b(\\w{3})\\b\"  # make sur the word has a boundary before it\n",
    "re.findall(pattern,\"hey there guy\")  # got it!"
   ]
  }
 ],
 "metadata": {
  "kernelspec": {
   "display_name": "Python 3 (ipykernel)",
   "language": "python",
   "name": "python3"
  },
  "language_info": {
   "codemirror_mode": {
    "name": "ipython",
    "version": 3
   },
   "file_extension": ".py",
   "mimetype": "text/x-python",
   "name": "python",
   "nbconvert_exporter": "python",
   "pygments_lexer": "ipython3",
   "version": "3.8.12"
  }
 },
 "nbformat": 4,
 "nbformat_minor": 4
}
