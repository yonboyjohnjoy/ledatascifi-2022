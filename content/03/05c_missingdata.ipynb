{
 "cells": [
  {
   "cell_type": "markdown",
   "metadata": {},
   "source": [
    "## Dealing with Missing Data"
   ]
  },
  {
   "cell_type": "markdown",
   "metadata": {},
   "source": [
    "```{admonition} Quick summary\n",
    ":class: tip\n",
    "1. **You should focus more on the \"whys\" of dealing with missing data rather than mechanics.** (You can look up mechanics later.)\n",
    "    - [These slides](https://github.com/matthewbrems/ODSC-missing-data-may-18/blob/master/Analysis%20with%20Missing%20Data.pdf) on missing data are quite good! [This article](https://www.geeksforgeeks.org/working-with-missing-data-in-pandas/) has examples too.\n",
    "    - On the \"whys\": With firm level data that investment analysts deal with, the most common approach to missing data is to keep all valid observations (don't drop anything), and for each test you run, use all observations that have no missing values for all the variables in a given test. In the slides above, this is called \"Complete-Case Analysis\". \n",
    "    - \"Complete-Case Analysis\" works well, as long as the fact that the variable is missing doesn't indicate a systematic difference between observations that are missing and those that aren't. For example, [I have research that characterizes innovation based on patent text](https://bowen.finance/bfh_data/), which gives researchers a powerful tool to examine the impacts of firm innovation. However, this dataset will lead to missing values for any firm without patents. And firms without patents are systematically differant than firms with patents.\n",
    "    - It is less common corporate finance to impute missing values. However, \"deductive imputation\" is common when the cost of doing so isn't high, like the height example above. \n",
    "    - Interpolation is done in asset pricing when it's necessary to estimate the pricing of options or other derivatives that aren't actually traded.\n",
    "1. `df.isnull().sum()` will report missing values by variable.\n",
    "4. In general, when you can confidently deduce a value (my height this year is the same as last year because I'm a fully grown adult, mostly), go ahead.  That is valid data.\n",
    "2. With new datasets, look out for \"missing values\" that aren't missing. Some datasets use a certain number to indicate missing data (i.e. -99). Convert these to NaNs with `replace`. \n",
    "```\n",
    "\n",
    "\n",
    "\n",
    "\n",
    "### Pandas functions you might use to fill missing values\n",
    "\n",
    "- `fillna` - any value (strings included) you want, back fill, forward, fill, and more\n",
    "- `dropna` - might not be explicitly needed, some functions ignore NaNs, but some don't. I tend to drop only as needed for a given estimation, and only temporarily. \n",
    "- `replace` - some datasets use a certain number to indicate missing data (i.e. -99). Convert these to NaN with this function.\n",
    "- `interpolate` - e.g. use values in surrounding time periods to fill in gaps\n",
    "- Deduce. Suppose PPE this year is missing. $PPE_t = PPE_{t-1} + CAPX_t - DP_t $\n",
    "\n",
    "### Practice\n",
    "\n",
    "Play around with each of those functions on this dataframe:"
   ]
  },
  {
   "cell_type": "code",
   "execution_count": null,
   "metadata": {},
   "outputs": [],
   "source": [
    "import pandas as pd\n",
    "import numpy as np\n",
    "\n",
    "df = pd.DataFrame({\"A\":[12, 4, 5, None, 1], \n",
    "                   \"B\":[None, 2, 54, 3, None], \n",
    "                   \"C\":[20, 16, None, 3, 8], \n",
    "                   \"D\":[14, 3, None, None, 6]}) \n",
    "\n",
    "_df1 = df.copy()\n",
    "_df1['firm'] = 1\n",
    "_df1['date'] = _df1.index\n",
    "\n",
    "_df2 = df.copy()\n",
    "_df2['firm'] = 2\n",
    "_df2['date'] = _df2.index\n",
    "\n",
    "df2 = _df1.append(_df2)\n"
   ]
  },
  {
   "cell_type": "markdown",
   "metadata": {},
   "source": [
    "**Questions for `df`**:\n",
    "\n",
    "1. Fill all missing values with -1\n",
    "1. Fill missing values for variable \"B\" with -1\n",
    "1. Fill all values with the mean for the variable\n",
    "1. Fill all values with the median for the variable\n",
    "1. Fill values by taking the most recent non-missing prior value\n",
    "\n",
    "**Questions for `df2`**:\n",
    "\n",
    "- Carry missing values forward without carrying values from firm 1 to firm 2\n",
    "- Fill missing values with the average for firms on that date"
   ]
  }
 ],
 "metadata": {
  "kernelspec": {
   "display_name": "Python 3 (ipykernel)",
   "language": "python",
   "name": "python3"
  },
  "language_info": {
   "codemirror_mode": {
    "name": "ipython",
    "version": 3
   },
   "file_extension": ".py",
   "mimetype": "text/x-python",
   "name": "python",
   "nbconvert_exporter": "python",
   "pygments_lexer": "ipython3",
   "version": "3.8.12"
  }
 },
 "nbformat": 4,
 "nbformat_minor": 4
}
