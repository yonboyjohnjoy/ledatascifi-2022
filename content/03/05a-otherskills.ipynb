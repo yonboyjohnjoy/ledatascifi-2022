{
 "cells": [
  {
   "cell_type": "markdown",
   "metadata": {},
   "source": [
    "# Other (Important) Data Wrangling Skills\n"
   ]
  },
  {
   "cell_type": "markdown",
   "metadata": {},
   "source": [
    "\n",
    "**Context - starting point:** Remember, the class's [first two objectives](../../about/objectives) are to:\n",
    "\n",
    "> 1. obtain, explore, groom, visualize, and analyze data\n",
    "> 2. make all of that reproducible, reusable, and shareable\n",
    "\n",
    "![](https://media.giphy.com/media/R2m2NzVxQ3pbG/giphy.gif) \n",
    "\n",
    "At this point, we're in the ballpark for all of that! In fact, if you recall the lengthier objectives, the \"data: cleaning, exploring, visualizing and organizing\" one said:\n",
    "\n",
    "> Some data will be given to you and well organized, but much of the data that will be given to you will be poorly organized. So we need to know how to explore it (both to clean it and learn from it). Tables will help you understand data, but visuals are usually better. [Plus], we are going to learn good dataset habits.\n",
    "\n",
    "![](https://media.giphy.com/media/xUOxfh6ZM75efM3Bqo/giphy.gif)\n",
    "\n",
    "**Context - right now:** At this point, we've covered/added skills \n",
    "- GitHub for collaboration (issues and discussion board) and sharing (cloning your peer's repos)\n",
    "- GitHub for project management/development and version control\n",
    "- Python: numpy, pandas, seaborn, matplotlib\n",
    "- Datasets: CRSP (stock prices), Compustat (firm financial statements), FRED (macroeconomic and regional time series data)\n",
    "- Data scraping: Yes, you've done this already!\n",
    "- Finance: Downloading stock prices and compounding returns over arbitrary time spans\n",
    "\n",
    "We need to talk about a few more issues before we get properly ambitious.\n",
    "\n",
    "![](https://media.giphy.com/media/kdFujikoYAdfgQQVrs/giphy.gif)\n",
    "\n",
    "**Context - going forward:** We need to introduce a few more skills before we start _really_ running analytical models. \n",
    "\n",
    "1. Merging datasets \n",
    "2. What to do with missing values?\n",
    "3. What to do with outliers?\n",
    "3. How to get a world of data off the world wide web\n",
    "4. Working with string data\n",
    "\n",
    "In this section of the data wrangling chapter, we will deal with the first three of those. \n",
    "\n",
    "(Scraping and strings needs a whole new section for the textbook...)\n"
   ]
  }
 ],
 "metadata": {
  "kernelspec": {
   "display_name": "Python 3",
   "language": "python",
   "name": "python3"
  },
  "language_info": {
   "codemirror_mode": {
    "name": "ipython",
    "version": 3
   },
   "file_extension": ".py",
   "mimetype": "text/x-python",
   "name": "python",
   "nbconvert_exporter": "python",
   "pygments_lexer": "ipython3",
   "version": "3.8.5"
  }
 },
 "nbformat": 4,
 "nbformat_minor": 4
}
