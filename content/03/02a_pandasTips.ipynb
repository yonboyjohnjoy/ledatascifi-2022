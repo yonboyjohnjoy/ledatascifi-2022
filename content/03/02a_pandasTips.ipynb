{
 "cells": [
  {
   "cell_type": "markdown",
   "metadata": {},
   "source": [
    "# Some tips as we proceed"
   ]
  },
  {
   "cell_type": "markdown",
   "metadata": {},
   "source": [
    "\n",
    "\n",
    "```{admonition} HOT TIPS THEY DON'T WANT YOU TO KNOW ABOUT!\n",
    ":class: tip\n",
    "\n",
    "1. Develop and save your \"cookbooks\" for common operations you run into. \n",
    "2. **Knowing about possible operations, and when and why to use them is more important than memorizing syntax!** [^knowing]\n",
    "    - [the official pandas tutorials](https://pandas.pydata.org/pandas-docs/stable/getting_started/index.html#intro-to-pandas) are oriented around solving specific tasks\n",
    "1. This chapter contains a lot of informational tables and code snippets; **read it at least twice**. Once to understand _when and why_ to run a given function, and once to dig into the syntax. \n",
    "3. I cover only the most essential functions. Make sure to bookmark (and visit, these pages are very useful!)\n",
    "    - [getting started with pandas tutorials](https://pandas.pydata.org/pandas-docs/stable/getting_started/index.html#intro-to-pandas)\n",
    "    - [pandas users guide](https://pandas.pydata.org/pandas-docs/stable/user_guide/index.html#user-guide) \n",
    "    - [10 minute intro to pandas](https://pandas.pydata.org/docs/user_guide/10min.html)\n",
    "    - [panda doc's cookbook](https://pandas.pydata.org/pandas-docs/stable/user_guide/cookbook.html)\n",
    "\n",
    "```\n",
    "\n",
    "[^knowing]: If you have a firm-year panel with sales, and you want to compute industry competition, knowing that you can run a `groupby` to reduce a firm-year panel to an industry-year panel is more important than knowing the `groupby` syntax. You can always look up syntax once you know a function is needed. \n",
    "\n",
    "\n",
    "\n"
   ]
  }
 ],
 "metadata": {
  "kernelspec": {
   "display_name": "Python 3 (ipykernel)",
   "language": "python",
   "name": "python3"
  },
  "language_info": {
   "codemirror_mode": {
    "name": "ipython",
    "version": 3
   },
   "file_extension": ".py",
   "mimetype": "text/x-python",
   "name": "python",
   "nbconvert_exporter": "python",
   "pygments_lexer": "ipython3",
   "version": "3.8.11"
  }
 },
 "nbformat": 4,
 "nbformat_minor": 4
}
