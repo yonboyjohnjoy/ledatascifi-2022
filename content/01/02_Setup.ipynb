{
 "cells": [
  {
   "cell_type": "markdown",
   "metadata": {},
   "source": [
    "# Set up\n",
    "\n"
   ]
  },
  {
   "cell_type": "markdown",
   "metadata": {},
   "source": [
    "```{tip}\n",
    "Please do all of these steps before the first class!\n",
    "\n",
    "There is a youtube video at the bottom of this page, if you prefer that. \n",
    "```\n",
    "\n",
    "Let's install our programming \"stack\". \n",
    "\n",
    "1. [Create a GitHub account](https://github.com/join). **Please use your name in your username to make discussions easier.** Then,\n",
    "    - [Fill out this survey so we know your username and get to know you](https://forms.gle/425BySmg2TxFMoid6).  \n",
    "    - Join the class's GitHub organization: Go to [coursesite](https://coursesite.lehigh.edu/course/view.php?id=236371), and click the first link under \"Assignment links\".\n",
    "    - Please add a profile photo on GitHub, to make our exchanges and community more personal (don't be a \"Twitter egg\"!)\n",
    "    - Optional: Sign up for a [student discount](https://education.github.com/discount_requests/new).\n",
    "\n",
    "1. Install [Anaconda](https://www.anaconda.com/products/individual#Downloads) (not [the Nicki Minaj song](https://www.youtube.com/watch?v=LDZX4ooRsWs)). \n",
    "    - _Install the latest version, make Anaconda your default Python installation, and accept all the defaults otherwise._\n",
    "        - **Mac users**: The TA used the \"64-Bit Graphical Installer (435 MB)\" \n",
    "    - Update Anaconda: Open up Anaconda Powershell Prompt (on windows, or terminal on Mac) and type \n",
    "    \n",
    "        `conda update --all` \n",
    "        \n",
    "       then click enter\n",
    "    \n",
    "4. Test start Jupyter Lab (simply see if you can open it, then close it)\n",
    "    - Open Anaconda Prompt (or terminal on a Mac) and type `jupyter lab`, click enter, and an internet tab should open with the url `http://localhost:8888/lab`. This is Jupyter Lab, and where we will code this semester!\n",
    "    - _The \"point and click: option: Open `Anaconda Navigator` and launch Jupyter Lab from there_\n",
    "    - _I recommend using the Powershell Prompt, because getting comfortable with that will be helpful_\n",
    "    - Bonus: Play around and explore Jupyter Lab. [For a walkthough of what you're seeing, this page should help](https://jupyterlab.readthedocs.io/en/latest/user/interface.html).\n",
    "    \n",
    "    ```{tip}\n",
    "    Once Jupyter Lab is open, it often helps to open a **second** powershell window. This will let you run terminal commands, which you can't do in the first powershell window (because that one is running jupyter lab).\n",
    "    ```\n",
    "    \n",
    "2. Install [Git](https://git-scm.com/download/). \n",
    "    - **Mac users**: Your TA installed Git via Homebrew. Go to [https://brew.sh](https://brew.sh), copy the home-brew address (they have a little copy paste icon which makes it easier for students), then type `brew install git` into the terminal and it'll install git. (There is no config necessary, type \"y \" when prompted with `y/n?`)\n",
    "    \n",
    "    ```{warning}\n",
    "    If Mac users install Git via Xcode, you'll have to install Xcode and essentially waste 4gb of space you probably won't be using.\n",
    "    ```\n",
    "\n",
    "    \n",
    "3. Install [GitHub Desktop](https://desktop.github.com/). _I accepted the default settings._\n",
    "    \n",
    "    ````{margin}    \n",
    "    ```{admonition}  **Is this a \"fun\" fact?**\n",
    "    :class: tip\n",
    "    Git $\\neq$ GitHub $\\neq$ GitHub Desktop! \n",
    "    ![](https://media.giphy.com/media/5hs1S7dpRHphppnvm7/source.gif)\n",
    "    \n",
    "    It is annoying that the names are so similar, but this will make more sense soon, I promise!\n",
    "    ```\n",
    "    ````\n",
    "    \n",
    "6. Optional, but recommended: Install a good text editor. [Atom](https://atom.io/), [Sublime](https://www.sublimetext.com/), or [Visual Studio (this link includes suggestions for extensions)](https://www.youtube.com/watch?v=jY0o1nkW0ow) are the most popular according to prior students of this class. \n",
    "\n",
    "7. **Strongly** recommended: [Add some superpowers to JupyterLab to make coding easier](#step-7-setting-up-jupyterlab)"
   ]
  },
  {
   "cell_type": "markdown",
   "metadata": {},
   "source": [
    "## Steps 1-6 on video\n",
    "\n",
    "I put together a video of me installing everything due to popular demand:"
   ]
  },
  {
   "cell_type": "markdown",
   "metadata": {},
   "source": [
    "<iframe width=\"560\" height=\"315\" src=\"https://www.youtube.com/embed/zKqkLEMmwBw\" frameborder=\"0\" allow=\"accelerometer; autoplay; clipboard-write; encrypted-media; gyroscope; picture-in-picture\" allowfullscreen>Loading...</iframe>\n"
   ]
  },
  {
   "cell_type": "markdown",
   "metadata": {},
   "source": [
    "If you have completed all the steps above, you are ready to go! If you got stuck on a step, message the RA or post on the classmates group. We will get you going quickly!"
   ]
  },
  {
   "cell_type": "markdown",
   "metadata": {},
   "source": [
    "## Step 7: Setting up JupyterLab\n",
    "\n",
    "These extensions will give you spell checking, code hints, and automatic formatting for your code 😍. \n",
    "\n",
    "1. Run these in terminal (Mac) or Anaconda Powershell Prompt (Windows) one at a time:\n",
    "\t```text\n",
    "\tpip install jupyterlab-spellchecker\n",
    "\tpip install jupyterlab_code_formatter\n",
    "\tpip install black\n",
    "\tpip install jupyterlab-lsp\n",
    "\tpip install python-lsp-server[all]\n",
    "\tpip install --upgrade lckr-jupyterlab-variableinspector \n",
    "\t```\n",
    "\t\n",
    "    - Mac users: To install the spellchecker, your TA had to install node.js in order to install the spell checker extension. MacOS users who also installed homebrew can install this in terminal via `brew install node`. \n",
    "    - Windows users: The last `pip install` command often fails. [Use this fix.](https://github.com/lckr/jupyterlab-variableInspector/issues/183#issuecomment-806579896) As of 2022, this fix isn't working for everyone. If it doesn't work on your computer, don't worry - just skip ahead to the next step, and let me know. \n",
    "    \n",
    "2. Now run `jupyter lab` in the terminal window to open Jupterlab. \n",
    "\n",
    "3. Click on settings, then Advanced Settings Editor. Click on the Keyboard Shortcuts menu. Then look to the right side of the screen: In the user preference box, add the text below. After you copy it in, save the user settings. (Either CTRL+S or using the the icon to the upper right of the user preference box.)\n",
    "\n",
    "    ```text\n",
    "\t{\n",
    "\t\t\"shortcuts\": [\n",
    "\t\t\t{\n",
    "\t\t\t\t\"command\": \"jupyterlab_code_formatter:format\",\n",
    "\t\t\t\t\"keys\": [\n",
    "\t\t\t\t\t\"Ctrl Shift F\"\n",
    "\t\t\t\t],\n",
    "\t\t\t\t\"selector\": \".jp-Notebook.jp-mod-editMode\"\n",
    "\t\t\t}\n",
    "\t\t]\n",
    "\t}\n",
    "    ```\n",
    "    \n",
    "    - Mac users: You might want to use \"Cmd\" instead of \"Ctrl\" \n",
    "    \n",
    "4. Still in the Advanced Settings Editor, Click on the Code Completion menu. Then look to the right side of the screen: In the user preference box, add the text below. After you copy it in, save the user settings. (Either CTRL+S or using the the icon to the upper right of the user preference box.)\n",
    "    ```text\n",
    "    {\n",
    "\t\t\"continuousHinting\": true,\n",
    "\t}\t\n",
    "    ```\n",
    "        "
   ]
  }
 ],
 "metadata": {
  "celltoolbar": "Tags",
  "kernelspec": {
   "display_name": "Python 3 (ipykernel)",
   "language": "python",
   "name": "python3"
  },
  "language_info": {
   "codemirror_mode": {
    "name": "ipython",
    "version": 3
   },
   "file_extension": ".py",
   "mimetype": "text/x-python",
   "name": "python",
   "nbconvert_exporter": "python",
   "pygments_lexer": "ipython3",
   "version": "3.8.12"
  }
 },
 "nbformat": 4,
 "nbformat_minor": 4
}
