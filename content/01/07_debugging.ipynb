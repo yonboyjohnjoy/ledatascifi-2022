{
 "cells": [
  {
   "cell_type": "markdown",
   "metadata": {},
   "source": [
    "# Debugging - Making code work\n",
    "\n",
    "## Bugs\n",
    "\n",
    "Perhaps the most famous early case of a computer bug was reported by [Grace Hopper](https://en.wikipedia.org/wiki/Grace_Hopper), who was absolutely a computer science legend and pioneer, and certainly also a [bad mama jama](https://www.youtube.com/watch?v=6QIw1BQIvT4). You should definitely go down the wiki rabbit hole on Grace's life sometime. \n",
    "\n",
    "![](img/bug.jpg)\n",
    "\n",
    "Computers are extremely powerful but incredibly stupid. We want to both\n",
    "1. Fix bugs when they happen\n",
    "2. Prevent them from happening!\n",
    "\n",
    "This section is mostly about the former. Good coding habits and defensive coding will help prevent them, and I cover those in the next lecture. \n",
    "\n",
    "So, to fix bugs, you need to \n",
    "1. Realize that you have a bug\n",
    "3. Figure out where it is\n",
    "2. Make it repeatable (and you'll understand the bug)\n",
    "4. Fix it (duh) and test it (the existence of the bug should disabuse you of your coding invincibility!)\n",
    "\n",
    "_**Advice that could save (or cost) you thousands:**_ Those steps are general, and work for other things besides code, like  plumbing and electrical work on your parent's house.\n",
    "\n",
    "### Read the error codes! \n",
    "\n",
    "```{tip}\n",
    "[This website-tutorialsteacher](https://www.tutorialsteacher.com/python/error-types-in-python) has a nice page listing the most common error types. If you get an error and aren't sure what it means, refer to this link as a starting point.\n",
    "```\n",
    "\n",
    "Really, error codes tend to be informative! You can google them for more info, but even without Google, they often point directly at the issue _and_ location. \n",
    "\n",
    "I created a short [walkthrough of the types of errors here.](07a_errors)\n",
    "\n",
    "### `%debug`\n",
    "\n",
    "[Covered in nice detail here](https://jakevdp.github.io/PythonDataScienceHandbook/01.06-errors-and-debugging.html#Debugging:-When-Reading-Tracebacks-Is-Not-Enough).\n",
    "\n",
    "### Flipping switches / divide and conquer / or: find the bug\n",
    "\n",
    "After slaving over your computer and a piece of paper (you smartly planned out your code before you went in head first), you've found a clever solution to your problem. Your code is beautiful and elegant, like this:"
   ]
  },
  {
   "cell_type": "code",
   "execution_count": 1,
   "metadata": {},
   "outputs": [
    {
     "ename": "NameError",
     "evalue": "name 'Error' is not defined",
     "output_type": "error",
     "traceback": [
      "\u001b[1;31m---------------------------------------------------------------------------\u001b[0m",
      "\u001b[1;31mNameError\u001b[0m                                 Traceback (most recent call last)",
      "\u001b[1;32mC:\\Users\\DONSLA~1\\AppData\\Local\\Temp/ipykernel_9464/3884189124.py\u001b[0m in \u001b[0;36m<module>\u001b[1;34m\u001b[0m\n\u001b[0;32m      2\u001b[0m \u001b[1;36m2\u001b[0m\u001b[1;33m+\u001b[0m\u001b[1;36m2\u001b[0m \u001b[1;31m# imagine this is a bunch of code\u001b[0m\u001b[1;33m\u001b[0m\u001b[1;33m\u001b[0m\u001b[0m\n\u001b[0;32m      3\u001b[0m \u001b[1;36m2\u001b[0m\u001b[1;33m+\u001b[0m\u001b[1;36m2\u001b[0m \u001b[1;31m# imagine this is a bunch of code\u001b[0m\u001b[1;33m\u001b[0m\u001b[1;33m\u001b[0m\u001b[0m\n\u001b[1;32m----> 4\u001b[1;33m \u001b[0mError\u001b[0m \u001b[1;31m# somewhere in the code is an error. But in real programming you don’t know the error is here!\u001b[0m\u001b[1;33m\u001b[0m\u001b[1;33m\u001b[0m\u001b[0m\n\u001b[0m\u001b[0;32m      5\u001b[0m \u001b[1;36m2\u001b[0m\u001b[1;33m+\u001b[0m\u001b[1;36m2\u001b[0m \u001b[1;31m# imagine this is a bunch of code\u001b[0m\u001b[1;33m\u001b[0m\u001b[1;33m\u001b[0m\u001b[0m\n\u001b[0;32m      6\u001b[0m \u001b[1;36m2\u001b[0m\u001b[1;33m+\u001b[0m\u001b[1;36m2\u001b[0m \u001b[1;31m# imagine this is a bunch of code\u001b[0m\u001b[1;33m\u001b[0m\u001b[1;33m\u001b[0m\u001b[0m\n",
      "\u001b[1;31mNameError\u001b[0m: name 'Error' is not defined"
     ]
    }
   ],
   "source": [
    "2+2 # imagine this is a bunch of code\n",
    "2+2 # imagine this is a bunch of code\n",
    "2+2 # imagine this is a bunch of code\n",
    "Error # somewhere in the code is an error. But in real programming you don’t know the error is here!\n",
    "2+2 # imagine this is a bunch of code\n",
    "2+2 # imagine this is a bunch of code\n"
   ]
  },
  {
   "cell_type": "markdown",
   "metadata": {},
   "source": [
    "But python had other ideas, I guess...\n",
    "\n",
    "![](https://media.giphy.com/media/dbtDDSvWErdf2/giphy.gif)\n",
    "\n",
    "Despite the appearance (his computer is on fire, after all), that guy works in [IT](https://www.imdb.com/title/tt0487831/). \n",
    "He spends all day taking calls from people with computer problems, typically menial. It drives him and his coworker crazy. One of the true lessons of the show, a profound piece of wisdom, really, and one that is my first method of solving virtually any technical issue, comes from that coworker:\n",
    "\n",
    "![](https://media.giphy.com/media/Oe4V14aLzv7JC/giphy.gif)\n",
    "\n",
    "I don't mean turning the computer off and on again. (Well, sometimes.) ... But you can turn parts of your code off:\n"
   ]
  },
  {
   "cell_type": "code",
   "execution_count": 2,
   "metadata": {},
   "outputs": [
    {
     "data": {
      "text/plain": [
       "4"
      ]
     },
     "execution_count": 2,
     "metadata": {},
     "output_type": "execute_result"
    }
   ],
   "source": [
    "2+2 # imagine this is a bunch of code\n",
    "2+2 # imagine this is a bunch of code\n",
    "# 2+2 # imagine this is a bunch of code\n",
    "# Error # somewhere in the code is an error. But in real programming you don’t know the error is here!\n",
    "# 2+2 # imagine this is a bunch of code\n",
    "# 2+2 # imagine this is a bunch of code\n"
   ]
  },
  {
   "cell_type": "markdown",
   "metadata": {},
   "source": [
    "At least we know the issue isn't in the first two lines. We can proceed and look elsewhere. \n",
    "\n",
    "Luckily, python error statements tend to be informative enough. Above, we know the issue is in line 4. But in more sophisticated settings, where the lines above aren't `2+2` but chunks of code, and the error isn't simply due to syntax or namespace issues... the on/off method can be useful. Why? Because many \"errors\" can exist even when the code executes. \n",
    "\n",
    "### Print statements\n",
    "\n",
    "Another ugly, possibly brutish method of debugging is: put print statements all over your code."
   ]
  },
  {
   "cell_type": "code",
   "execution_count": 3,
   "metadata": {},
   "outputs": [
    {
     "name": "stdout",
     "output_type": "stream",
     "text": [
      "6\n",
      "12\n",
      "12\n",
      "hey\n"
     ]
    },
    {
     "ename": "TypeError",
     "evalue": "unsupported operand type(s) for +: 'int' and 'str'",
     "output_type": "error",
     "traceback": [
      "\u001b[1;31m---------------------------------------------------------------------------\u001b[0m",
      "\u001b[1;31mTypeError\u001b[0m                                 Traceback (most recent call last)",
      "\u001b[1;32mC:\\Users\\DONSLA~1\\AppData\\Local\\Temp/ipykernel_9464/534785303.py\u001b[0m in \u001b[0;36m<module>\u001b[1;34m\u001b[0m\n\u001b[0;32m      8\u001b[0m \u001b[0mprint\u001b[0m \u001b[1;33m(\u001b[0m\u001b[0ma\u001b[0m\u001b[1;33m)\u001b[0m\u001b[1;33m\u001b[0m\u001b[1;33m\u001b[0m\u001b[0m\n\u001b[0;32m      9\u001b[0m \u001b[0mprint\u001b[0m \u001b[1;33m(\u001b[0m\u001b[0mb\u001b[0m\u001b[1;33m)\u001b[0m\u001b[1;33m\u001b[0m\u001b[1;33m\u001b[0m\u001b[0m\n\u001b[1;32m---> 10\u001b[1;33m \u001b[0ma\u001b[0m\u001b[1;33m+\u001b[0m\u001b[1;34m'hey'\u001b[0m\u001b[1;33m\u001b[0m\u001b[1;33m\u001b[0m\u001b[0m\n\u001b[0m\u001b[0;32m     11\u001b[0m \u001b[1;33m\u001b[0m\u001b[0m\n",
      "\u001b[1;31mTypeError\u001b[0m: unsupported operand type(s) for +: 'int' and 'str'"
     ]
    }
   ],
   "source": [
    "def silly_func_here_but_in_a_real_situation_its_complicated_and_mysterious_ooooooh():\n",
    "    return 6\n",
    "a=silly_func_here_but_in_a_real_situation_its_complicated_and_mysterious_ooooooh()\n",
    "print(a)\n",
    "a+=a # += means \"add whatever is on the right to the existing value\"\n",
    "print(a) # see, the value changed\n",
    "b = 'hey'\n",
    "print (a)\n",
    "print (b)\n",
    "a+'hey'\n",
    "\n"
   ]
  },
  {
   "cell_type": "markdown",
   "metadata": {},
   "source": [
    "In this example, we don't actually need print statements to realize that `a` is an `int` type and `b` is a `str` type because the error code is so obvious. \n",
    "\n",
    "Nevertheless...\n",
    "\n",
    "## Seriously... print your data and objects OFTEN!"
   ]
  },
  {
   "cell_type": "markdown",
   "metadata": {
    "tags": [
     "popout"
    ]
   },
   "source": [
    "**Suppose you have a large dataset you want to explore. What can you do to look at it?**\n",
    "\n",
    "Here are some options: \n",
    "1. Print parts of it in Jupyter, and look at the actual data.\n",
    "1. Print many summary stats, and plots. \n",
    "1. Look at the dataset using [variableInspector](05_jupyterlab#my-jupyter-lab-set-up).\n",
    "    - Warning: If your dataset is large enough, using variableInspector can significantly slow down your computer and force you to do a hard reset. \n",
    "    - Workaround: Copy a smaller slice of the data to a new, smaller variable, and then look at that slice using variableInspector. \n",
    "2. Output to a csv file and open in Excel.\n",
    "3. Use the `spyder` program that came with Anaconda. Spyder has a UI that is more like Matlab or Stata, and so you can view and scroll through objects in memory. This can be very, very useful for developing code. In fact, Spyder is how most of my own research code is written.  \n",
    "\n",
    "If you have a dataset in Jupyter you want to open in Spyder, you can either \n",
    "- save the object from Jupyter (via the `pickle` module) and open it in Spyder,\n",
    "- or convert the `ipynb` file to a simple `py` file which removes the Markdown so that Spyder can run: *(File menu > Export Notebook as > Export Notebook to Executable Script )* \n",
    "\n",
    "Then you'd simply execute the code in Spyder up to the point you were at, and continue. \n",
    "\n",
    "Much of this class will require delivery of `ipynb` files, and I would recommended using Jupyter exclusively at the beginning. However, if you personally prefer Spyder for bigger projects later on, feel free to use Spyder until the project is ready for write up (at which point you copy the code into a `ipynb` file and add Markdown elements to build the report).\n"
   ]
  },
  {
   "cell_type": "markdown",
   "metadata": {},
   "source": [
    "### No, seriously, look at your data a lot!\n",
    "\n",
    "This isn't even a \"debugging\" point per se.\n",
    "\n",
    "You know a 6 is a 6. But we will be handling increasingly large datasets, and it's easy to make rather large changes without knowing exactly what you have done, ... or not done ... , if you don't see into the object. Are you sure that object is exactly what you think it is, containing exactly what you think it does? Thus, the `print` statement and other ways of \"glancing into\" datasets are crucial. Even when you've all become pythonic pros, you should tend towards examining your objects \"too much\". \n",
    "\n",
    "## Are you still stuck?\n",
    "\n",
    "It'll happen! We will try to build some ambitious code this semester! (Imagine trying to replicate the CAPM beta estimation on 500 firms in Excel!) Coding complicated analysis is iterative and debugging can be [as tough as having your IT firm audited](https://media.giphy.com/media/92S5gReZGnDgY/giphy.gif).\n",
    "\n",
    "So if you've tried the above, what can you do? \n",
    "- Writing smart code will save us from getting into intractable problems. More on that next class. \n",
    "- Again, see the [resources tab of our website!](../about/resources) It's got some good pointers, along with a 15 minute rule: **Once you’ve spent 15 minutes attempting to troubleshoot a problem, you must ask for help!**\n",
    "- Finally, clearing your head and getting a mental break might help you spot the problem:\n",
    "\n",
    "![](https://media.giphy.com/media/h6cFYO8miNhok/giphy.gif)."
   ]
  },
  {
   "cell_type": "markdown",
   "metadata": {
    "jp-MarkdownHeadingCollapsed": true,
    "tags": []
   },
   "source": [
    "## Clear output and rerun from the start!\n",
    "\n",
    "_(Yes, I'm copying this from the prior page. It's important!)_\n",
    "\n",
    "```{warning}\n",
    "I can NOT emphasize this enough: The point of code is to make things reproducible. So code must run from beginning to end and produce the same thing every time.\n",
    "```\n",
    "The nature of developing code is that you'll run some lines of code, then write more code, then go back and change something above (and run that part again), and then go back down and keep writing and running new code. When you're done, your code will be broken!\n",
    "\n",
    "```{admonition} **A golden rule**\n",
    ":class: tip\n",
    "\n",
    "1. Always look to see if the first executed code block is \"\\[1\\]\" and that all the subsequent code blocks are numbered consecutively. [Click on this link to see an example.](out_of_order1)\n",
    "1. If the code you're looking at doesn't meet those two rules, I click \"Run\" > \"Restart Kernel and Run All Cells\".\n",
    "1. This applies to your own code! Restart and run from scratch regularly.\n",
    "\n",
    "```\n"
   ]
  },
  {
   "cell_type": "markdown",
   "metadata": {},
   "source": [
    "## Did you follow these tips and fix your code?\n",
    "\n",
    "Congrats!\n",
    "\n",
    "![](https://media.giphy.com/media/5tov263RmYEpPYmcuB/giphy.gif)\n"
   ]
  }
 ],
 "metadata": {
  "kernelspec": {
   "display_name": "Python 3 (ipykernel)",
   "language": "python",
   "name": "python3"
  },
  "language_info": {
   "codemirror_mode": {
    "name": "ipython",
    "version": 3
   },
   "file_extension": ".py",
   "mimetype": "text/x-python",
   "name": "python",
   "nbconvert_exporter": "python",
   "pygments_lexer": "ipython3",
   "version": "3.8.12"
  }
 },
 "nbformat": 4,
 "nbformat_minor": 4
}
