{
 "cells": [
  {
   "cell_type": "markdown",
   "metadata": {},
   "source": [
    "# Digging into Py(thon)\n",
    "\n",
    "```{important}\n",
    "\n",
    "This page is long, but important. It's structured as a walkthrough - you should run the code on your computer as you read it. \n",
    "\n",
    "It is not meant to be the end-all-be-all of python basics. There are [very good resources around the web](../about/resources) you should and will consult during the semester which contain more in-depth info on topics. [https://www.pythoncheatsheet.org/](https://www.pythoncheatsheet.org/) is a good one. What's below is a curated set of topics to get us going in the class. \n",
    "```\n",
    "\n",
    "## Tutorials\n",
    "\n",
    "You can't learn programmatic material during class sessions, try though I might to make it possible. You can only learn through practice. You should be checking out tutorials and lessons online in your free time. \n",
    "\n",
    "Two great options:\n",
    "- Codeacademy is great. You can probably blast through the key lessons before a free trial expires (currently=7 days). \n",
    "- Go through #3 to #14 of [A Whirlwind Tour of Python](https://github.com/jakevdp/WhirlwindTourOfPython).\n",
    "\n",
    "As you follow either of those, I would put the code you write inside the `/learning_python/` (or similar) folder inside your Class Notes repo. \n",
    "- You can call the file(s) whatever you want. (If you want a suggestion for a filename, \"Cheatsheet\", \"Whirlwind Cheatsheet\", or \"Codeacademy Cheatsheet\" make sense.)\n",
    "- Our [resources page](../about/resources) has a python cheatsheet you can download. \n",
    "\n",
    "Do you prefer to learn through games?\n",
    "- (That's how I learned python! I built solvers for Sudoku and the Cracker Barrel golf tee game... Both taught me a LOT about programming in python, problem solving strategies, and data structures.) \n",
    "- Assignment 1 in 2022 includes an optional challenge: Optimizing your Wordle guessing strategy.\n",
    "- [Edabit](https://edabit.com/) has a bunch of games. If you log in, you can search for python challenges that take from 1 minute to ... longer... For example, [the Museum of Dull Things](https://edabit.com/challenge/cx7eFvQBzjauLgwgZ). If you find any games illuminating, please let me know via the class discussions repo!\n",
    "\n",
    "Alright, let's get going. Hopefully digging into Py goes better than Chrissy Teigen's experience:\n",
    "\n",
    "![](https://media.giphy.com/media/zlXkHKnCXAe9a/giphy.gif)\n"
   ]
  },
  {
   "cell_type": "markdown",
   "metadata": {},
   "source": [
    "## Python essentials \n",
    "\n",
    "Below, we cover 12[^scope] essential topics you'll need to understand. \n",
    "\n",
    "[^scope]: The subsection on scope isn't crucial but is useful to students sometimes.\n",
    "\n",
    "```{warning}\n",
    "Research strongly indicates that active learning is the most effective way to learn new skills. That's why I linked to tutorials above. \n",
    "\n",
    "This chapter works as a reference page you can return to, but - especially if you are new to Python! - I want you to try to run as much code from this page in your own notebook file so you can add your own notes about python and write and try additional things with code. \n",
    "\n",
    "To the extent possible, I want you to get comfortable typing commands yourself rather than copy-pasting. This is slightly more painful in the beginning, but much better payoff in the long-run.\n",
    "```\n",
    "\n",
    "```{tip}\n",
    "That said, when you're short on time, you can copy code blocks on this website to your own notebook files to try to run them two ways:\n",
    "1. Quick and dirty: By clicking the \"copy\" symbol in the upper-right corner of code blocks on the website.\n",
    "2. Better option: [This video](05_jupyterlab.html?#how-do-i-copy-code-from-one-file-to-another) shows you how to download the textbook and lecture slides to your computer, and then you can easily drag and drop both sections of code and markdown from those into your notes. \n",
    "\n",
    "After copy-pasting, the way to \"supercharge\" that into active learning is to run the code, _**and then change something in the code, rerun it, and see what changes**_. \n",
    "```\n",
    "\n",
    "### Comments\n",
    "\n",
    "In python code blocks, the \"#\" character tells python to ignore the rest of the line. \n",
    "\n",
    "**Leaving GOOD comments in the code is important!** [Good, smart code](https://web.stanford.edu/~gentzkow/research/CodeAndData.xhtml#magicparlabel-1130) tries to reduce the use of comments by writing code so obvious that it is \"self-documenting\" (I'll explain why later), \n",
    "\n",
    "**But for now... you should err on the side of adding MORE comments**. Why? If you need to take a break and come back at a later point, comments will help to quickly bring you up to speed if you forgot why you put in a particular line of code. Getting in the habit of using comments is smart.\n",
    "\n",
    "You'll become more discerning about comments as you progress. Two articles about how and when to use comments: [this link](https://realpython.com/python-comments-guide/#why-commenting-your-code-is-so-important) and [this link](https://realpython.com/documenting-python-code/#why-documenting-your-code-is-so-important)\n",
    "\n",
    "### Arithmetic"
   ]
  },
  {
   "cell_type": "code",
   "execution_count": null,
   "metadata": {},
   "outputs": [],
   "source": [
    "# Note: these cells aren't showing the answers on the website on purpose! \n",
    "\n",
    "# YOU: TYPE ALL OF THESE OUT ON YOUR OTHER PARTICIPATION SHEET... YOU CAN OMIT THE COMMENTS IF YOU WANT\n",
    "# YOU: TRY VARIATIONS TOO...\n",
    "\n",
    "print(2+3) # addition\n",
    "print(2-3) # subtraction\n",
    "print(2/3) # division - in Python 3, division of integers (a data type) inherently returns floats (a data type)\n",
    "print(type(2), type(2/3)) # see?\n",
    "print(2//3, type(2//3)) # floor division returns an integer. \n",
    "# FOR YOU to try: use this to tell me how many full hours are in 7643 minutes?"
   ]
  },
  {
   "cell_type": "code",
   "execution_count": null,
   "metadata": {},
   "outputs": [],
   "source": [
    "print(2%3) # mod operator\n",
    "print(2*3) # multiplication\n",
    "print(2**3) # 2 to the power of three\n",
    "print(2^3) # ^ is NOT the power operator!!! it is a 'bit' operator - you don't need to know this for now\n",
    "\n",
    "int(2+3*(4+15)/3) # 1. PEMDAS applies \n",
    "                  # 2. If the last command in a cell return an *object*, jupyter auto prints it w/o needing print()\n",
    "                  # 3. this should be a float (21.0), but you can convert a float to an int with the int() function"
   ]
  },
  {
   "cell_type": "markdown",
   "metadata": {},
   "source": [
    "### Parentheses - Grouping and Calling\n",
    "\n",
    "As the above example shows, parentheses are for **grouping** (`(4+15)/3` forces addition before division) and **calling** a function (e.g. `print()` means the `print` function is called on the inputs inside the parentheses).\n",
    "\n",
    "### Logic and comparisons\n",
    "\n",
    "The **comparison operators** are `==` (equals), `!=` (not equal), `>` (greater than), `>=` (equal or greater than), `<` (less than), and `<=` (equal or less than). Each of these prompts Python to **evaluate the truth** of the comparison and return `True` or `False`.\n",
    "\n",
    "`True` and `False` are booleans, meaning `True` is equal to 1, and `False` is equal to 0. "
   ]
  },
  {
   "cell_type": "code",
   "execution_count": null,
   "metadata": {},
   "outputs": [],
   "source": [
    "# YOU: TYPE ALL OF THESE OUT ON YOUR OTHER PARTICIPATION SHEET... YOU CAN OMIT THE COMMENTS IF YOU WANT\n",
    "# YOU: TRY VARIATIONS TOO...\n",
    "\n",
    "print(3>3)            # 3 is not greater than 3, so this evaluates to...\n",
    "                      # YOU: try 2 of the 3 other comparison operators\n",
    "print(True == 1)      \n",
    "print(type(True), int(True), type(False), int(False)) # print() can print a sequence of objects "
   ]
  },
  {
   "cell_type": "markdown",
   "metadata": {},
   "source": [
    "The **logic operators** are `and`, `or`, and `not`. They evaluate a sequence of statements and return a true or false boolean.\n",
    "\n",
    "_**What does `or` mean?**_ In common parlance, `or` usually means \"Do you want A or do you want B? (pick one)\". Mathematically, `or` works like a dad joke - You: \"Dad, are we rich or poor?\" Dad: \"Yes\"."
   ]
  },
  {
   "cell_type": "code",
   "execution_count": null,
   "metadata": {
    "scrolled": true
   },
   "outputs": [],
   "source": [
    "# YOU: TYPE ALL OF THESE OUT ON YOUR OTHER PARTICIPATION SHEET... YOU CAN OMIT THE COMMENTS IF YOU WANT\n",
    "\n",
    "a = True              # you assign variables by writing: VariableName = Thing. \n",
    "b = False\n",
    "print(a and b)        # if both sides of *and* are true, the whole thing is\n",
    "print(a or b)         # if either side of *or* is true, the whole thing is\n",
    "print(a and not b)    # *not* negates what is after it\n",
    "print(not a or not b) # \"not b\" is true, so the whole thing is true"
   ]
  },
  {
   "cell_type": "markdown",
   "metadata": {},
   "source": [
    "The **membership operators** `in` and `not in` check whether the left object is or is not in the object on the right side. "
   ]
  },
  {
   "cell_type": "code",
   "execution_count": null,
   "metadata": {},
   "outputs": [],
   "source": [
    "# try these... what do you get?\n",
    "a=3\n",
    "b=[1,2,3]\n",
    "print(a in b)\n",
    "print(a not in b)\n",
    "print(b in a)\n",
    "print(b not in a)"
   ]
  },
  {
   "cell_type": "markdown",
   "metadata": {},
   "source": [
    "The **identity operators** `is` and `is not` check whether the left side and the right side are the same object.\n",
    "\n",
    "**WARNING: `is` and `==` are NOT the same!!!*** Here is an example [borrowed from G4G](https://www.geeksforgeeks.org/difference-operator-python/)."
   ]
  },
  {
   "cell_type": "code",
   "execution_count": null,
   "metadata": {},
   "outputs": [],
   "source": [
    "list1 = [] \n",
    "list2 = [] \n",
    "list3=list1 \n",
    "print(list1 == list2)\n",
    "print(list1 is list2)\n",
    "print(list1 is list3)"
   ]
  },
  {
   "cell_type": "markdown",
   "metadata": {},
   "source": [
    "**Parentheses:** You can (and certainly will at some point need to) check for the truth of statements involving many variables, and complex logic requests. You can dictate the order Python evaluates statements. So, for example,\n",
    "\n",
    "```python\n",
    "if (Poor and TaxRateAtOrBelowNegative10) or (MiddleClass and TaxRateAtOrBelow5) or (Rich and TaxRateBelow15):\n",
    "    start_audit()\n",
    "```\n",
    "\n",
    "will audit rich filers if they have less than a 15% tax rate, but will only audit poor tax filers if they had a negative tax rate."
   ]
  },
  {
   "cell_type": "code",
   "execution_count": null,
   "metadata": {},
   "outputs": [],
   "source": [
    "# a few silly examples\n",
    "\n",
    "print((3>3) == False) # 1 is not greater than 2, so this evaluates to... \n",
    "print(3>3 == False)   \n",
    "print((3>3) != True)\n"
   ]
  },
  {
   "cell_type": "markdown",
   "metadata": {},
   "source": [
    "### Variables are pointers\n",
    "\n",
    "[Read this page!](https://nbviewer.jupyter.org/github/jakevdp/WhirlwindTourOfPython/blob/master/03-Semantics-Variables.ipynb)\n",
    "\n",
    "I'll simply provide the following **warning: Unless you read and understand the link above,** any time you write `x=y`, you might be creating a secret bug in your code that will cause potentially enormous errors!\n",
    "\n",
    "To illustrate:"
   ]
  },
  {
   "cell_type": "code",
   "execution_count": 1,
   "metadata": {},
   "outputs": [
    {
     "name": "stdout",
     "output_type": "stream",
     "text": [
      "<class 'list'>\n",
      "[1, 2, 3]\n",
      "[1, 2, 3, 4]\n"
     ]
    }
   ],
   "source": [
    "x = [1, 2, 3]\n",
    "print(type(x))\n",
    "y = x\n",
    "print(y)\n",
    "x.append(4) # change x, not y\n",
    "print(y) # y was changed as well... Why? Read the page above!"
   ]
  },
  {
   "cell_type": "markdown",
   "metadata": {},
   "source": [
    "### Everything is an object\n",
    "\n",
    "Referring again to [Whirlwind of Python](https://nbviewer.jupyter.org/github/jakevdp/WhirlwindTourOfPython/blob/master/03-Semantics-Variables.ipynb),\n",
    "\n",
    "> In object-oriented programming languages like Python, an object is an entity that contains data along with associated metadata and/or functionality. In Python everything is an object, which means every entity has some metadata (called attributes) and associated functionality (called methods). These attributes and methods are accessed via the _**dot syntax.**_\n",
    "\n",
    "So, `object.method(<arguments here>)` will call the function `method` from/on `object`, and the function uses whatever arguments you pass it.\n",
    "\n",
    "Examples:\n",
    "- Above, the object `x` has the type attribute of `list`, and lists have a \"method\" called `append`.\n",
    "- [In the stock prices program we show during the lectures](../../lectures/stock_prices.html), we imported a package: `import pandas_datareader as pdr`. Now, the \"package\" `pandas_datareader` is actually an \"object\" (which we call `pdr` for convenience). That object - like any object - has \"method\" functions. In that code, for example, I called `pdr.get_data_yahoo(stocks)` to download stock prices. \n",
    "- Seriously, EVERYTHING is an object. \n",
    "    - Lists are objects (duh)\n",
    "    - Attributes and methods of objects are themselves objects. Put `type(x.append)` at the end of the code block above. \n",
    "    - Files\n",
    "\n"
   ]
  },
  {
   "cell_type": "markdown",
   "metadata": {},
   "source": [
    "### Common object types\n",
    "\n",
    "`Boolean` and `int` were covered above. \n",
    "\n",
    "`None`. [See here](https://nbviewer.jupyter.org/github/jakevdp/WhirlwindTourOfPython/blob/master/05-Built-in-Scalar-Types.ipynb#None-Type).\n",
    "\n",
    "`float`. The other (besides `int`) main type for numbers.\n",
    "\n",
    "```{warning} **Beware of comparing floating point numbers!** \n",
    "Below is an example, and see [here for the explanation](https://nbviewer.jupyter.org/github/jakevdp/WhirlwindTourOfPython/blob/master/05-Built-in-Scalar-Types.ipynb#Aside:-Floating-point-precision).\n",
    "```"
   ]
  },
  {
   "cell_type": "code",
   "execution_count": 2,
   "metadata": {},
   "outputs": [
    {
     "name": "stdout",
     "output_type": "stream",
     "text": [
      "True\n",
      "False\n"
     ]
    }
   ],
   "source": [
    "print(1.0+2.0 == 3.0)\n",
    "print(0.1+0.2 == 0.3) # FALSE?!"
   ]
  },
  {
   "cell_type": "markdown",
   "metadata": {},
   "source": [
    "`str`. There are built-in functions that work on strings directly. Let's look at a few:"
   ]
  },
  {
   "cell_type": "code",
   "execution_count": null,
   "metadata": {},
   "outputs": [],
   "source": [
    "a='some string' # a = \"some string\" is the same. \n",
    "\n",
    "# some functions work on strings directly\n",
    "print(len(a)) \n",
    "\n",
    "# string types also have many functions as methods\n",
    "print(a.upper())\n",
    "#YOU: type a.<tab> in your notebook, and jupyter will open a list of possible functions!\n"
   ]
  },
  {
   "cell_type": "markdown",
   "metadata": {},
   "source": [
    "### Built in data structures\n",
    "\n",
    "Python has `list`, `tuple`, `dict`, and `set`. Beginners typically rely on lists extensively, but as you progress, you will find that all four are extremely useful, because their unique traits solve different needs.\n",
    "\n",
    "| Type Name | Example                   | Description                            |\n",
    "|-----------|---------------------------|---------------------------------------|\n",
    "| ``list``  | ``[1, 2, 3]``             | Ordered collection                    |\n",
    "| ``tuple`` | ``(1, 2, 3)``             | Immutable ordered collection          |\n",
    "| ``dict``  | ``{'a':1, 'b':2, 'c':3}`` | Unordered (key,value) mapping         |\n",
    "| ``set``   | ``{1, 2, 3}``             | Unordered collection of **unique** values |\n",
    "\n",
    "```{important}\n",
    "[You should absolutely read this](https://nbviewer.jupyter.org/github/jakevdp/WhirlwindTourOfPython/blob/master/06-Built-in-Data-Structures.ipynb) and as you do, try the examples, and throw them into your growing personal cheat sheet. \n",
    "```\n",
    "\n",
    "You need to know \n",
    "- how to define/create an object of each type (the examples above)\n",
    "- access elements within each type \n",
    "- modify elements within each type\n",
    "- add or remove elements from each type\n",
    "- when a set is useful, when a dictionary is useful (as opposed to a list)\n",
    "\n",
    "There are LOTS of functions in python that work on the common object types and the data structures we just introduced. \n",
    "\n",
    "First, let me illustrate the use of `.extend()` vs `.append()` vs `+` for lists:"
   ]
  },
  {
   "cell_type": "code",
   "execution_count": 3,
   "metadata": {},
   "outputs": [
    {
     "data": {
      "text/plain": [
       "[8, 5, 6, 3, 7, 5, 3, 4, 13, 14, 7, [6], [8, 9]]"
      ]
     },
     "execution_count": 3,
     "metadata": {},
     "output_type": "execute_result"
    }
   ],
   "source": [
    "L=[8, 5, 6, 3, 7] # use brackets to define a list\n",
    "L.extend([5])    # extend concatenates\n",
    "L.extend([3,4])  # concatenates work the same with more elemens\n",
    "L = L + [13,14]  # + concatenates\n",
    "L.append(7)      # append adds its entire argument to the list as a new element. \n",
    "L.append([6])    # 7 is an int, so it goes in as an int, but [6] is a *list*, so append puts a list as the element\n",
    "L.append([8,9])  # see, the last element is [8,9]\n",
    "L\n"
   ]
  },
  {
   "cell_type": "markdown",
   "metadata": {},
   "source": [
    "Now, let's all define this vector: `L=[8, 5, 6, 3, 7]`. \n",
    "\n",
    "**Exercises: Write code that does the following:**\n",
    "1. Returns the length.\n",
    "1. Returns the largest element.\n",
    "1. Returns the smallest element.\n",
    "1. Returns the total of the vector.\n",
    "2. Returns the first element. See [this awesome answer](https://stackoverflow.com/questions/509211/understanding-slice-notation?rq=1) to learn about \"slicing\" lists in Python. If that link is dead: https://stackoverflow.com/questions/509211/understanding-slice-notation?rq=1 \n",
    "2. Returns the last element.\n",
    "2. Returns the first 2 elements.\n",
    "2. Returns the last 2 elements.\n",
    "2. Returns the odd numbered elements (i.e. [8,6,7]).\n",
    "\n",
    "```{tip}\n",
    "I'd suggest putting what you just learned about how python indexes an object and how to slice a list into your personal cheat sheet until you have it memorized thoroughly. \n",
    "```"
   ]
  },
  {
   "cell_type": "markdown",
   "metadata": {},
   "source": [
    "### For loops\n",
    "\n",
    "Python loops are very intuitive. You need to know one thing first:\n",
    "\n",
    "````{admonition} **PYTHON AND INDENTATION**\n",
    ":class: warning\n",
    "\n",
    "In python, indentations at the beginning of lines are not \"up to the user\". Usually, indentations indicate a \"block\" of code that is run as a unit inside a `for`, `if`, `elif`, `else`, or `def` command. \n",
    "\n",
    "This code:\n",
    "```python\n",
    "# If the condition is true, python will do anything that is in the \n",
    "# block of code belonging to the if statement. But 7 < 5 is false,\n",
    "# so python won't do anything that \"belongs\" to this \"if\"\n",
    "if 7 < 5: \n",
    "    print('I will not print.') \n",
    "    print('Nor will I') \n",
    "```\n",
    "... will not do the same thing as this code:\n",
    "```python\n",
    "if 7 < 5:     \n",
    "    print('I will not print.') \n",
    "print('But I will!') \n",
    "```\n",
    "...because in the second version the second print line isn't indented and therefore isn't part of the \"if\" statement\n",
    "\n",
    "Conversely, how you use whitespace _within_ a line is up to you. Both of these lines of code accomplish the same thing:\n",
    "    \n",
    "```python\n",
    "print(      a)\n",
    "\n",
    "print(a)\n",
    "```\n",
    "\n",
    "````"
   ]
  },
  {
   "cell_type": "markdown",
   "metadata": {},
   "source": [
    "Syntax:\n",
    "\n",
    "```python \n",
    "for <name> in <iterable object>:     # you must use the colon!\n",
    "    <do some stuff>                  # you must indent \n",
    "    <do some more stuff if you want> # you must indent \n",
    "    <do even more stuff>             # you must indent \n",
    "```\n",
    "\n",
    "Comments:\n",
    "- The iterable object can be anything Python can iterate through, e.g. a list. (But not just lists!) \n",
    "- _Note: When I write anything inside `<>`, you should drop the \"<\" and \">\" symbols when you fill that out._\n",
    "\n",
    "```{admonition} A very good tip: Use good variable names!\n",
    ":class: tip\n",
    "\n",
    "Variable names should be something that communicates the content of the variable! Good names make code easy to read and fix bugs. Bad names set you up for pain and suffering.\n",
    "\n",
    "- Examples of bad variable names: `x`, `y`, `z`, `vector`, `myvector`\n",
    "- Examples of goods variable names, (used in for loops so you can see a good habit):\n",
    "    - If you are looping over `letters`, each object might be called a `letter`: `for letter in letters`\n",
    "    - `for stock in stocks`\n",
    "    - `for state in states`\n",
    "```    "
   ]
  },
  {
   "cell_type": "markdown",
   "metadata": {},
   "source": [
    "Example: \n",
    "\n",
    "```\n",
    "for state in states:\n",
    "    capitol=stateCapitals[state]\n",
    "    print(capitol)\n",
    "    print(capitol.upper())\n",
    "    # you can use as many lines as you need, just keep indenting\n",
    "    # the indents are 4 spaces, or more commonly, a <tab>\n",
    "    \n",
    "print(states) # <-- the for loop ends when you write a line of \n",
    "              # code (not a comment!) that is unindented \n",
    "```\n",
    "\n",
    "So, for each state, Python will start the indented block of code and run each line within the code block in sequence. So if the list of states is `[Alabama, Alaska, Arizona,...]`, Python will...\n",
    "1. Grab the first element in the list we are looping over and put that thing in a variable called \"state\". So, set state = 'Alabama'.\n",
    "1. Set capitol = 'Montgomery'\n",
    "2. Print 'Montgomery'\n",
    "3. Print 'MONTGOMERY'\n",
    "4. Execute the next two lines of code, but they are just comments so nothing happens.\n",
    "5. At the end of the indented block of code, python will check if there is another element in the states vector, and if so, repeat the indented block. There is another state after Alabama, so...\n",
    "1. Set state = 'Alaska'\n",
    "1. Set capitol = 'Juneau'\n",
    "2. Print 'Juneau'\n",
    "3. Print 'JUNEAU'\n",
    "4. ...\n",
    "5. Set state = 'Wyoming'\n",
    "1. Set capitol = 'Cheyenne'\n",
    "2. Print 'Cheyenne'\n",
    "3. Print 'CHEYENNE'\n",
    "4. Is there another state? No? Ok! The for-loop is complete! Python will exit the indented code block and proceed. The next line of code that is not indented is `print(states)` and so that's the next thing it will do.\n",
    " "
   ]
  },
  {
   "cell_type": "markdown",
   "metadata": {},
   "source": [
    "### If, elif, else\n",
    "\n",
    "Syntax:\n",
    "\n",
    "```python \n",
    "if <condition 1>:                         # you must use the colon!\n",
    "     <do some stuff if condition is true> # remember to indent things inside the if\n",
    "elif <condition 2>:                       # \"elif\" as in \"Else-If\"\n",
    "    <do stuff if condition 1 is false but condition 2 is true>\n",
    "else:\n",
    "    <if neither condition 1 nor 2 are true, do this>\n",
    "```\n",
    "\n",
    "Comments:\n",
    "- You can include zero or as many `elif` code blocks as you want\n",
    "- You can omit the `else` block entirely - you can just do an \"if\" block if that's all you need\n",
    "- Whatever is in `<condition>` must evaluate to True or False, or 1 or 0 (1 is equivalent to True, 0 is False)\n",
    "- See the **\"Logic and comparisons\"** section above on how Python evaluates conditions\n",
    "\n",
    "````{tip}\n",
    "For loops, if-elif-else, and while are \"flow controls\": They control the order in which the code is executed. You can \"nest\" many levels of flow-control. Here is an example of putting an `if` statement inside a `for` loop:\n",
    "\n",
    "```\n",
    "for state in states:\n",
    "    capitol=stateCapitals[state]\n",
    "    print(capitol)\n",
    "    print(capitol.upper())\n",
    "    if state == \"Ohio\":\n",
    "        print(\"Michigan is better than Ohio\")\n",
    "```              \n",
    "````"
   ]
  },
  {
   "cell_type": "markdown",
   "metadata": {},
   "source": [
    "### While\n",
    "\n",
    "Syntax:\n",
    "\n",
    "```python\n",
    "while <condition is True>:\n",
    "    <do some stuff>\n",
    "```\n",
    "\n",
    "For example:"
   ]
  },
  {
   "cell_type": "code",
   "execution_count": 4,
   "metadata": {},
   "outputs": [
    {
     "name": "stdout",
     "output_type": "stream",
     "text": [
      "0\n",
      "1\n",
      "2\n",
      "3\n",
      "4\n",
      "5\n",
      "6\n"
     ]
    }
   ],
   "source": [
    "counter = 0\n",
    "while counter < 7:\n",
    "    print(counter)\n",
    "    counter += 1 # \"+=\" is short for \"add to myself\". \n",
    "                 # Here, it's an abbreviation for: counter = counter + 1"
   ]
  },
  {
   "cell_type": "markdown",
   "metadata": {},
   "source": [
    "I have one important comment about `while` loops: **Every time through the loop, there must be a chance for the condition to become False. If not, your code will loop forever!**\n",
    "\n",
    "We won't use while loops in this class. But if you ever write one, and it is stuck in an infinite loop, you can stop the kernel by typing <kbd>i</kbd>, <kbd>i</kbd>. Or click the \"Terminals and Kernels\" tab in the left sidebar and \"shutdown\" next to your code's filename. \n"
   ]
  },
  {
   "cell_type": "markdown",
   "metadata": {},
   "source": [
    "### Writing your own functions\n",
    "\n",
    "Writing your own functions is important for improving the clarity of your code  because it\n",
    "- separates different strands of logic\n",
    "- allows you to reuse code\n",
    "- prevents copy/paste errors\n",
    "\n",
    "````{admonition} The syntax of functions \n",
    ":class: tip\n",
    "\n",
    "To write a function, write\n",
    "1. \"def\", \n",
    "2. name the function,\n",
    "3. inside parentheses, list the parameters a user might pass as inputs into the function\n",
    "4. a colon\n",
    "5. then, all the code of the function is indented and begins on on the next line\n",
    "6. use `return <object>` at the end of the function to output the object the function makes (which could be any type of object!)\n",
    "\n",
    "```python\n",
    "def <nameOfYourChoice>(<you can specify arguments the function takes, or none>):\n",
    "    # and then write your indented code block that is the function. \n",
    "```    \n",
    "\n",
    "````\n",
    "\n",
    "On inputs: \n",
    "- **Any object(s) you want can be given as inputs!** You can give as inputs a variable, a list, a dictionary, even a function. Remember, in python, _everything is an object_. \n",
    "- **You choose the name an object will be referred to as _within_ the function.** \n",
    "    - In the example below, the function calls the first number you give it \"x\" and then checks if `x<0`\n",
    "    - So, even though `zz=-100`, when we run `f(zz)`, the function acts like we told it `x=-100`.  \n",
    "- Functions can get \"positional\" arguments or keyword arguments. Positional arguments are based on the order in which you provide them to the function. Keyword arguments can be specified by including their name, without needing to be in the right spot in the order of arguments (like `b=3` below).\n",
    "\n",
    "On outputs:\n",
    "- Once the code _**executes**_ a line starting with `return`, the function will end and output whatever is on that line.\n",
    "- **Students new to functions usually want to end them with something like  `print(answer)`.** Don't! End functions with return, like `return answer`. If you use print, you can't use the function's output for anything else after it finishes. If you use return, you can save the output and use it (even if its just to print it).\n",
    "- **Any object(s) you want can be returned as outputs!** The output can be a list, set, function, dictionary, string. It can be a dictionary with lists inside it, or a list with dictionaries inside it. Go wild if you want! (But only while practicing your skills. In practice, don't be complex for the sake of it!)\n",
    "\n",
    "````{warning}\n",
    "Functions can print things while executing. This can be useful while debugging a function and testing it. Because of that, people new to python often use \"print\" at the end of functions instead of return. \n",
    "\n",
    "However, `print` DOES NOT EQUAL `return`! \n",
    "\n",
    "**If you want to reuse the output at any point later in your code, use return instead of print!**\n",
    "\n",
    "```python\n",
    "def silly_me():\n",
    "    # a simple function for illustration, just outputs a string\n",
    "    return \"this is a string\"\n",
    "    \n",
    "a = silly_me() # now \"a\" is the string \"this is a string\"\n",
    "print(a)       # and you can print the output without putting print in the function\n",
    "```\n",
    "````\n",
    "\n",
    "On documentation:\n",
    "- Code that is poorly documented won't be used. By you, by you in the future, or by others. So you should document it! You do this by adding line(s) immediately after the first line, as the example below shows.\n",
    "- The docstring can be accessed by users via `<functionName>?` or `help(<FunctionName>)` the same as any other function. In fact, this is how help is written in all Python functions we've used!\n",
    "\n",
    "**Example:** The function below shows off positional and keyword arguments, how to write a multiline _\"docstring\"_, how the program ends once a return is executed, outputting a list, and setting default values for inputs."
   ]
  },
  {
   "cell_type": "code",
   "execution_count": 5,
   "metadata": {},
   "outputs": [
    {
     "name": "stdout",
     "output_type": "stream",
     "text": [
      "WHOA THIS IS NEGATIVE\n",
      "[6, 2]\n",
      "[2, 2]\n",
      "[4, 2]\n",
      "Help on function f in module __main__:\n",
      "\n",
      "f(x, a=1, b=1)\n",
      "    The first argument you give goes to x, the second to a, the third to b.\n",
      "    If you do not provide a or b, they default to the value 1.\n",
      "\n"
     ]
    }
   ],
   "source": [
    "def f(x, a=1, b=1):\n",
    "    '''\n",
    "    Returns a list. Element 0 is a+bx, element 1 is 2. \n",
    "    \n",
    "    The first argument you give goes to x, the second to a, the third to b.\n",
    "    If you do not provide a or b, they default to the value 1.\n",
    "    '''\n",
    "    if x < 0:\n",
    "        return \"WHOA THIS IS NEGATIVE\"\n",
    "    return [a + b * x, 2] # you can return any object(s) you want! this is a list, for example\n",
    "\n",
    "zz = -100         \n",
    "print(f(zz))      # Inside the function, it takes the first arg\n",
    "                  # and calls it \"x\". So here x is -100 inside.\n",
    "                  # because x<0, the func returns WHOA\n",
    "                  # and never gets to a+b*x\n",
    "print(f(2,2,2))   \n",
    "print(f(1))       # uses the default value of a and b\n",
    "print(f(1,b=3))   # uses the default value of a\n",
    "help(f)           # the docstring is useful!"
   ]
  },
  {
   "cell_type": "code",
   "execution_count": 6,
   "metadata": {},
   "outputs": [
    {
     "ename": "SyntaxError",
     "evalue": "positional argument follows keyword argument (Temp/ipykernel_6932/3182615729.py, line 2)",
     "output_type": "error",
     "traceback": [
      "\u001b[1;36m  File \u001b[1;32m\"C:\\Users\\DONSLA~1\\AppData\\Local\\Temp/ipykernel_6932/3182615729.py\"\u001b[1;36m, line \u001b[1;32m2\u001b[0m\n\u001b[1;33m    print(f(b=3,1))\u001b[0m\n\u001b[1;37m                ^\u001b[0m\n\u001b[1;31mSyntaxError\u001b[0m\u001b[1;31m:\u001b[0m positional argument follows keyword argument\n"
     ]
    }
   ],
   "source": [
    "# this won't work! python requires you to use the keyword arguments AFTER the positional arguments\n",
    "print(f(b=3,1)) "
   ]
  },
  {
   "cell_type": "markdown",
   "metadata": {},
   "source": [
    "### Advanced: Scope\n",
    "\n",
    "I want you to be generally aware of the concept of \"global\" and \"local\" scope. Generally, python objects are available only within the region they are defined and subregions therein. Put differently, objects are available downstream, but not upstream.\n",
    "\n",
    "Here is an example:"
   ]
  },
  {
   "cell_type": "code",
   "execution_count": 7,
   "metadata": {},
   "outputs": [
    {
     "name": "stdout",
     "output_type": "stream",
     "text": [
      "1\n"
     ]
    }
   ],
   "source": [
    "x=1\n",
    "def silly_func():\n",
    "    xyz = 14\n",
    "    print(x) # variables defined OUTSIDE AND BEFORE a function are visible INSIDE the func\n",
    "    \n",
    "silly_func() "
   ]
  },
  {
   "cell_type": "code",
   "execution_count": 8,
   "metadata": {},
   "outputs": [
    {
     "ename": "NameError",
     "evalue": "name 'xyz' is not defined",
     "output_type": "error",
     "traceback": [
      "\u001b[1;31m---------------------------------------------------------------------------\u001b[0m",
      "\u001b[1;31mNameError\u001b[0m                                 Traceback (most recent call last)",
      "\u001b[1;32mC:\\Users\\DONSLA~1\\AppData\\Local\\Temp/ipykernel_6932/3825219627.py\u001b[0m in \u001b[0;36m<module>\u001b[1;34m\u001b[0m\n\u001b[1;32m----> 1\u001b[1;33m \u001b[0mprint\u001b[0m\u001b[1;33m(\u001b[0m\u001b[0mxyz\u001b[0m\u001b[1;33m)\u001b[0m   \u001b[1;31m# variables defined INSIDE a function are NOT visible OUTSIDE the func\u001b[0m\u001b[1;33m\u001b[0m\u001b[1;33m\u001b[0m\u001b[0m\n\u001b[0m",
      "\u001b[1;31mNameError\u001b[0m: name 'xyz' is not defined"
     ]
    }
   ],
   "source": [
    "print(xyz)   # variables defined INSIDE a function are NOT visible OUTSIDE the func\n"
   ]
  },
  {
   "cell_type": "markdown",
   "metadata": {},
   "source": [
    "Here is a second example to show that changing the downstream variable _inside the function_ won't change the variable's value outside the function!"
   ]
  },
  {
   "cell_type": "code",
   "execution_count": 9,
   "metadata": {},
   "outputs": [
    {
     "name": "stdout",
     "output_type": "stream",
     "text": [
      "2\n",
      "1\n"
     ]
    }
   ],
   "source": [
    "x = 1\n",
    "def silly_func():\n",
    "    x=2\n",
    "    return x\n",
    "print(silly_func())\n",
    "print(x)               # changing the downstream variable inside the function didn't change the upstream version"
   ]
  },
  {
   "cell_type": "markdown",
   "metadata": {
    "jp-MarkdownHeadingCollapsed": true,
    "tags": []
   },
   "source": [
    "## Clear output and rerun from the start!\n",
    "\n",
    "```{warning}\n",
    "I can NOT emphasize this enough: The point of code is to make things reproducible. So code must run from beginning to end and produce the same thing every time.\n",
    "```\n",
    "The nature of developing code is that you'll run some lines of code, then write more code, then go back and change something above (and run that part again), and then go back down and keep writing and running new code. When you're done, your code will be broken!\n",
    "\n",
    "```{admonition} **A golden rule**\n",
    ":class: tip\n",
    "\n",
    "1. Always look to see if the first executed code block is \"\\[1\\]\" and that all the subsequent code blocks are numbered consecutively. [Click on this link to see an example.](out_of_order1)\n",
    "1. If the code you're looking at doesn't meet those two rules, I click \"Run\" > \"Restart Kernel and Run All Cells\".\n",
    "1. This applies to your own code! Restart and run from scratch regularly.\n",
    "\n",
    "```\n"
   ]
  },
  {
   "cell_type": "markdown",
   "metadata": {},
   "source": [
    "## Stuck on syntax issues for a function? \n",
    "\n",
    "See the tips in the [Jupyter Lab](05_jupyterlab#resources) page.\n"
   ]
  }
 ],
 "metadata": {
  "kernelspec": {
   "display_name": "Python 3 (ipykernel)",
   "language": "python",
   "name": "python3"
  },
  "language_info": {
   "codemirror_mode": {
    "name": "ipython",
    "version": 3
   },
   "file_extension": ".py",
   "mimetype": "text/x-python",
   "name": "python",
   "nbconvert_exporter": "python",
   "pygments_lexer": "ipython3",
   "version": "3.8.12"
  }
 },
 "nbformat": 4,
 "nbformat_minor": 4
}
