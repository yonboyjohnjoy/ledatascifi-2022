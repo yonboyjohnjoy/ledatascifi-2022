{
 "cells": [
  {
   "cell_type": "markdown",
   "metadata": {},
   "source": [
    "# The Future\n",
    "\n",
    "I hope you've enjoyed the class and learned a bunch! This class is only an introduction to what can be done; clearly, there are galaxies of material on data science broadly and its possible applications to solve important (finance related) problems. But you have the starting toolkit to explore that galaxy of possibility now.\n",
    "\n",
    "**My sincere hope is that this class has opened up some doors for you**, whether you end up developing code to solve a problem for your company or end up managing a group of devs that are doing the coding. \n",
    "\n",
    "**I wish you all the best in the future and look forward to hearing about all the great things you do. Go forth, Mountain Hawks!**\n",
    "\n",
    "Thinking both about you-and-data-science, and you-and-me...\n",
    "\n",
    "![](https://media.giphy.com/media/f41oBFWHe3uro7Inqr/giphy.gif) "
   ]
  },
  {
   "cell_type": "markdown",
   "metadata": {},
   "source": [
    "## Faster, better, stronger\n",
    "\n",
    "Students often ask about how they can grow their skills after this semester. \n",
    "\n",
    "There is no one path forward, but I think people learn skills best when the skill-building is the byproduct of doing something fun/exciting that scratches your curiosity. \n",
    "\n",
    "```{tip}\n",
    "Pick a project to do and something to solve, you'll learn new py tricks along the way! \n",
    "\n",
    "This is the model for skill growth that works best in my experience.\n",
    "```\n",
    "\n",
    "Your projects don't have to be finance-related. (My initial python projects weren't!) Maybe it's about your love of some game (e.g. basketball), or tv/movies/books, or sports. Just pick something that sounds fun. \n",
    "\n",
    "[The website resources](https://ledatascifi.github.io/ledatascifi-2022/content/about/resources.html#resources-tutorials-and-data) has lots of good stuff to explore, but I'd also recommend meandering the links on [this page, including \"fecon\"](https://github.com/jupyter/jupyter/wiki#economics-and-finance)."
   ]
  },
  {
   "cell_type": "markdown",
   "metadata": {},
   "source": [
    "## Dashboards - A Really Fun Project Idea\n",
    "\n",
    "```{tip}\n",
    "One awesome thing you can do with data: Build a dashboard/webpage!  \n",
    "\n",
    "Not only are dashboards cool as hell, they are also good ways to show off your skills (e.g. put them on your resume) because they can be really useful for real-world decision makers. \n",
    "```\n",
    "\n",
    "[How do you think this amazing page was built?](https://www.perthirtysix.com/essay/nba-player-scoring-analysis) Or the interactive visualizations [538, NYT, WaPo, WSJ and others frequently publish](https://fivethirtyeight.com/features/science-isnt-broken/)? And look at all [these freaking awesome examples!](https://dash.gallery/Portal/)  \n",
    "\n",
    "_All you need to build a dashboard is data acquisition and formatting skills - which you have!_\n",
    "\n",
    "So if you want to build a dashboard, [here is a really good walkthrough](https://realpython.com/python-dash/#deploy-your-dash-application-to-heroku) explaining how to build [this page](https://avocado-analytics.herokuapp.com/). \n",
    "\n",
    "If you ever build one, PLEASE send it to me!\n",
    "\n",
    "\n",
    "\n",
    "  "
   ]
  },
  {
   "cell_type": "markdown",
   "metadata": {},
   "source": [
    "## Saving Your Work\n",
    "\n",
    "At the end of each semester, I reset the GitHub organization to make way for the students in next year's class. \n",
    "\n",
    "This removes you from the org, and importantly: **It removes your assignment repos from GitHub.com!**\n",
    "\n",
    "```{tip}\n",
    "So to save your work, you should make sure you've downloaded/cloned all of your assignment repos! \n",
    "```\n",
    "\n",
    "If you want to sync your work back up to your own GitHub account to ensure you have a backup, the video below will show you how. \n",
    "\n",
    "<iframe width=\"560\" height=\"315\" src=\"https://www.youtube.com/embed/poS4ngZZQjc\" title=\"YouTube video player\" frameborder=\"0\" allow=\"accelerometer; autoplay; clipboard-write; encrypted-media; gyroscope; picture-in-picture\" allowfullscreen></iframe>\n",
    "\n",
    "\n",
    "\n"
   ]
  }
 ],
 "metadata": {
  "kernelspec": {
   "display_name": "Python 3 (ipykernel)",
   "language": "python",
   "name": "python3"
  },
  "language_info": {
   "codemirror_mode": {
    "name": "ipython",
    "version": 3
   },
   "file_extension": ".py",
   "mimetype": "text/x-python",
   "name": "python",
   "nbconvert_exporter": "python",
   "pygments_lexer": "ipython3",
   "version": "3.8.12"
  }
 },
 "nbformat": 4,
 "nbformat_minor": 4
}
