{
 "cells": [
  {
   "cell_type": "markdown",
   "metadata": {},
   "source": [
    "# Estimating the loadings on 3 factor model\n",
    "\n",
    "On the last page, we estimated the CAPM model and got an annual estimate of beta for each firm. However, while CAPM is a useful entry point to start learning about expected return models, CAPM describes returns poorly in the real world in many settings. Because of that, hedge funds typically use 3 to 5 factors in their asset pricing models. \n",
    "\n",
    "So this page makes two changes to the [CAPM estimation](05b_capm):\n",
    "1. Here, I use CRSP data on stock returns. As noted on the last page, this is the industry standard for return data. \n",
    "2. This page will implement a \"Fama-French (FF) 3 factor\" model. This model helped Eugene Fama win a Nobel Prize, and it includes the market premium, _plus_ a size factor and a value factor. \n",
    "\n",
    "Similarly to before, let's estimate, for each firm, for each year, the alpha, beta, and size and value loadings. So we want a dataset that looks like this:\n",
    "\n",
    "| Firm | Year | alpha | beta | SMB_loading | HML_loading |\n",
    "| --- | --- | --- | --- | --- | --- |\n",
    "| MSFT |\t1990 |\t0.042351 |\t0.329337 |\t-0.627803 |\t-3.094143 |\n",
    "| MSFT |\t1991 |\t0.154813 |\t1.350377 |\t-0.166336 |\t-0.901889 |\n",
    "| MSFT |\t1992 |\t0.121780 |\t1.610188 |\t0.241002 |\t-1.281456 |\n",
    "| MSFT |\t1993 |\t0.019707 |\t1.372881 |\t-0.204308 |\t-1.273144 |\n",
    "\n",
    "Again, the pseudo code is simple:\n",
    "\n",
    "1. Set up the data (asset returns with factors merged in)\n",
    "    1. Load your asset returns.\n",
    "    1. Merge in the market returns and any factors you want to include in your model.\n",
    "    1. Make sure your returns are scaled like your factors (e.g., below, I convert to percentages to match the FF convention)\n",
    "    1. Make sure your asset returns and market returns are both excess returns \n",
    "3. For each firm and time period you're interested in, estimate the model via `df.groupby([asset_id,year]).apply(reg_in_groupby, formula='<model>')`\n",
    "\n"
   ]
  },
  {
   "cell_type": "markdown",
   "metadata": {},
   "source": [
    "## Set up the data"
   ]
  },
  {
   "cell_type": "code",
   "execution_count": 1,
   "metadata": {},
   "outputs": [],
   "source": [
    "import pandas as pd\n",
    "import numpy as np\n",
    "import pandas_datareader as pdr"
   ]
  },
  {
   "cell_type": "markdown",
   "metadata": {},
   "source": [
    "Load your stock returns. Here, I'll use a subset of CRSP, but you can use anything. \n",
    "\n",
    "The returns don't even have to be firms!\n",
    "\n",
    "**They can be any asset.** (Portfolios, mutual funds, crypto, ...)"
   ]
  },
  {
   "cell_type": "code",
   "execution_count": 2,
   "metadata": {},
   "outputs": [],
   "source": [
    "crsp = pd.read_stata('https://github.com/LeDataSciFi/ledatascifi-2022/blob/main/data/3firm_ret_1990_2020.dta?raw=true')\n",
    "crsp['ret'] = crsp['ret']*100 # convert to precentage to match FF's convention on scaling (daily % rets)"
   ]
  },
  {
   "cell_type": "markdown",
   "metadata": {},
   "source": [
    "Then grab the market returns. Here, we will use one of the Fama-French datasets."
   ]
  },
  {
   "cell_type": "code",
   "execution_count": 3,
   "metadata": {},
   "outputs": [],
   "source": [
    "ff = pdr.get_data_famafrench('F-F_Research_Data_5_Factors_2x3_daily',start=1980,end=2010)[0] # the [0] is because the imported obect is a dictionary, and key=0 is the dataframe\n",
    "ff = ff.reset_index().rename(columns={\"Mkt-RF\":\"mkt_excess\", \"Date\":\"date\"})"
   ]
  },
  {
   "cell_type": "markdown",
   "metadata": {},
   "source": [
    "Merge the market returns into the stock returns."
   ]
  },
  {
   "cell_type": "code",
   "execution_count": 4,
   "metadata": {},
   "outputs": [],
   "source": [
    "crsp_ready = pd.merge(left=ff, right=crsp, on='date', how=\"inner\",\n",
    "                      indicator=True, validate=\"one_to_many\")"
   ]
  },
  {
   "cell_type": "markdown",
   "metadata": {},
   "source": [
    "## Estimate the model\n",
    "\n",
    "So the data's basically ready. Again, the goal is to estimate, for each firm, for each year, the alpha, beta, and size and value loadings. \n",
    "\n",
    "You caught that right? I have a dataframe, and **for each** firm, and **for each** year, I want to \\<do stuff\\> (run regressions).\n",
    "    \n",
    "**Pandas + \"for each\" = groupby!**\n",
    "\n",
    "So we will _basically_ run `crsp_ready.groupby([firm,year]).runregression()`. Except there is no \"runregression\" function that applies to pandas groupby objects. Small workaround: `crsp.groupby([firm,year]).apply(<our own reg fcn>)`.\n",
    "\n",
    "We just need to write a reg function that works on groupby objects. \n"
   ]
  },
  {
   "cell_type": "code",
   "execution_count": 5,
   "metadata": {},
   "outputs": [],
   "source": [
    "import statsmodels.api as sm\n",
    "\n",
    "def reg_in_groupby(df,formula=\"ret_excess ~ mkt_excess + SMB + HML\"):\n",
    "    '''\n",
    "    Want to run regressions after groupby?\n",
    "    \n",
    "    This will do it! \n",
    "    \n",
    "    Note: This defaults to a FF3 model assuming specific variable names. If you\n",
    "    want to run any other regression, just specify your model.\n",
    "    \n",
    "    Usage: \n",
    "        df.groupby(<whatever>).apply(reg_in_groupby)\n",
    "        df.groupby(<whatever>).apply(reg_in_groupby,formula=<whatever>)\n",
    "    '''\n",
    "    return pd.Series(sm.formula.ols(formula,data = df).fit().params)"
   ]
  },
  {
   "cell_type": "markdown",
   "metadata": {},
   "source": [
    "Let's use that function!"
   ]
  },
  {
   "cell_type": "code",
   "execution_count": 6,
   "metadata": {},
   "outputs": [
    {
     "data": {
      "text/html": [
       "<div>\n",
       "<style scoped>\n",
       "    .dataframe tbody tr th:only-of-type {\n",
       "        vertical-align: middle;\n",
       "    }\n",
       "\n",
       "    .dataframe tbody tr th {\n",
       "        vertical-align: top;\n",
       "    }\n",
       "\n",
       "    .dataframe thead th {\n",
       "        text-align: right;\n",
       "    }\n",
       "</style>\n",
       "<table border=\"1\" class=\"dataframe\">\n",
       "  <thead>\n",
       "    <tr style=\"text-align: right;\">\n",
       "      <th></th>\n",
       "      <th>permno</th>\n",
       "      <th>year</th>\n",
       "      <th>alpha</th>\n",
       "      <th>beta</th>\n",
       "      <th>SMB_loading</th>\n",
       "      <th>HML_loading</th>\n",
       "    </tr>\n",
       "  </thead>\n",
       "  <tbody>\n",
       "    <tr>\n",
       "      <th>0</th>\n",
       "      <td>10107.0</td>\n",
       "      <td>1990</td>\n",
       "      <td>0.053564</td>\n",
       "      <td>0.374896</td>\n",
       "      <td>-0.575158</td>\n",
       "      <td>-3.034802</td>\n",
       "    </tr>\n",
       "    <tr>\n",
       "      <th>1</th>\n",
       "      <td>10107.0</td>\n",
       "      <td>1991</td>\n",
       "      <td>0.152044</td>\n",
       "      <td>1.353209</td>\n",
       "      <td>-0.154796</td>\n",
       "      <td>-0.935610</td>\n",
       "    </tr>\n",
       "    <tr>\n",
       "      <th>2</th>\n",
       "      <td>10107.0</td>\n",
       "      <td>1992</td>\n",
       "      <td>0.121237</td>\n",
       "      <td>1.611697</td>\n",
       "      <td>0.261069</td>\n",
       "      <td>-1.284102</td>\n",
       "    </tr>\n",
       "    <tr>\n",
       "      <th>3</th>\n",
       "      <td>10107.0</td>\n",
       "      <td>1993</td>\n",
       "      <td>0.020430</td>\n",
       "      <td>1.358716</td>\n",
       "      <td>-0.220972</td>\n",
       "      <td>-1.283983</td>\n",
       "    </tr>\n",
       "    <tr>\n",
       "      <th>4</th>\n",
       "      <td>10107.0</td>\n",
       "      <td>1994</td>\n",
       "      <td>0.167363</td>\n",
       "      <td>0.982035</td>\n",
       "      <td>-0.618733</td>\n",
       "      <td>-1.235349</td>\n",
       "    </tr>\n",
       "    <tr>\n",
       "      <th>...</th>\n",
       "      <td>...</td>\n",
       "      <td>...</td>\n",
       "      <td>...</td>\n",
       "      <td>...</td>\n",
       "      <td>...</td>\n",
       "      <td>...</td>\n",
       "    </tr>\n",
       "    <tr>\n",
       "      <th>75</th>\n",
       "      <td>65875.0</td>\n",
       "      <td>2005</td>\n",
       "      <td>-0.118006</td>\n",
       "      <td>0.855879</td>\n",
       "      <td>-0.550304</td>\n",
       "      <td>-0.041979</td>\n",
       "    </tr>\n",
       "    <tr>\n",
       "      <th>76</th>\n",
       "      <td>65875.0</td>\n",
       "      <td>2006</td>\n",
       "      <td>0.076719</td>\n",
       "      <td>1.027060</td>\n",
       "      <td>-0.378648</td>\n",
       "      <td>-0.231876</td>\n",
       "    </tr>\n",
       "    <tr>\n",
       "      <th>77</th>\n",
       "      <td>65875.0</td>\n",
       "      <td>2007</td>\n",
       "      <td>0.053609</td>\n",
       "      <td>0.861027</td>\n",
       "      <td>-0.367128</td>\n",
       "      <td>0.053669</td>\n",
       "    </tr>\n",
       "    <tr>\n",
       "      <th>78</th>\n",
       "      <td>65875.0</td>\n",
       "      <td>2008</td>\n",
       "      <td>0.087575</td>\n",
       "      <td>0.840263</td>\n",
       "      <td>-0.312572</td>\n",
       "      <td>0.024437</td>\n",
       "    </tr>\n",
       "    <tr>\n",
       "      <th>79</th>\n",
       "      <td>65875.0</td>\n",
       "      <td>2009</td>\n",
       "      <td>-0.049988</td>\n",
       "      <td>0.752539</td>\n",
       "      <td>-0.263469</td>\n",
       "      <td>-0.195175</td>\n",
       "    </tr>\n",
       "  </tbody>\n",
       "</table>\n",
       "<p>80 rows × 6 columns</p>\n",
       "</div>"
      ],
      "text/plain": [
       "     permno  year     alpha      beta  SMB_loading  HML_loading\n",
       "0   10107.0  1990  0.053564  0.374896    -0.575158    -3.034802\n",
       "1   10107.0  1991  0.152044  1.353209    -0.154796    -0.935610\n",
       "2   10107.0  1992  0.121237  1.611697     0.261069    -1.284102\n",
       "3   10107.0  1993  0.020430  1.358716    -0.220972    -1.283983\n",
       "4   10107.0  1994  0.167363  0.982035    -0.618733    -1.235349\n",
       "..      ...   ...       ...       ...          ...          ...\n",
       "75  65875.0  2005 -0.118006  0.855879    -0.550304    -0.041979\n",
       "76  65875.0  2006  0.076719  1.027060    -0.378648    -0.231876\n",
       "77  65875.0  2007  0.053609  0.861027    -0.367128     0.053669\n",
       "78  65875.0  2008  0.087575  0.840263    -0.312572     0.024437\n",
       "79  65875.0  2009 -0.049988  0.752539    -0.263469    -0.195175\n",
       "\n",
       "[80 rows x 6 columns]"
      ]
     },
     "execution_count": 6,
     "metadata": {},
     "output_type": "execute_result"
    }
   ],
   "source": [
    "(\n",
    "    crsp_ready # grab the data\n",
    "    \n",
    "    # Two things before the regressions:\n",
    "    # 1. need a year variable (to group on)\n",
    "    # 2. the market returns in FF are excess returns, so \n",
    "    #    our stock returns need to be excess as well\n",
    "    .assign(year = crsp_ready.date.dt.year,\n",
    "           ret_excess = crsp_ready.ret - crsp_ready.RF)\n",
    "    \n",
    "    # ok, run the regs, so easy!\n",
    "    .groupby(['permno','year']).apply(reg_in_groupby)\n",
    "    \n",
    "    # optional: clean up the output with better var names \n",
    "    .rename(columns={'Intercept':'alpha','mkt_excess':'beta',\n",
    "                    'SMB':'SMB_loading','HML':'HML_loading'})\n",
    "    .reset_index()\n",
    ")"
   ]
  },
  {
   "cell_type": "markdown",
   "metadata": {},
   "source": [
    "How cool is that! Holy smokes! "
   ]
  }
 ],
 "metadata": {
  "kernelspec": {
   "display_name": "Python 3 (ipykernel)",
   "language": "python",
   "name": "python3"
  },
  "language_info": {
   "codemirror_mode": {
    "name": "ipython",
    "version": 3
   },
   "file_extension": ".py",
   "mimetype": "text/x-python",
   "name": "python",
   "nbconvert_exporter": "python",
   "pygments_lexer": "ipython3",
   "version": "3.8.12"
  }
 },
 "nbformat": 4,
 "nbformat_minor": 4
}
